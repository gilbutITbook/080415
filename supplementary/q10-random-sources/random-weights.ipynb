{
  "cells": [
    {
      "cell_type": "markdown",
      "metadata": {
        "id": "view-in-github",
        "colab_type": "text"
      },
      "source": [
        "<a href=\"https://colab.research.google.com/github/rickiepark/MLQandAI/blob/main/supplementary/q10-random-sources/random-weights.ipynb\" target=\"_parent\"><img src=\"https://colab.research.google.com/assets/colab-badge.svg\" alt=\"Open In Colab\"/></a>"
      ]
    },
    {
      "cell_type": "markdown",
      "id": "7b759a05-9483-4df8-8787-c01a8ddf8f4b",
      "metadata": {
        "id": "7b759a05-9483-4df8-8787-c01a8ddf8f4b"
      },
      "source": [
        "# 랜덤한 가중치 초기화"
      ]
    },
    {
      "cell_type": "markdown",
      "id": "98b6b513-4095-44e1-9f7d-65a298d01c02",
      "metadata": {
        "id": "98b6b513-4095-44e1-9f7d-65a298d01c02"
      },
      "source": [
        "### 랜덤 시드 사용하지 않는 경우"
      ]
    },
    {
      "cell_type": "code",
      "execution_count": null,
      "id": "6134dabb-ecae-47cc-9a51-0a08d3acb520",
      "metadata": {
        "id": "6134dabb-ecae-47cc-9a51-0a08d3acb520",
        "outputId": "c02fe028-52cb-4eaf-8e4e-c99cb9502f62",
        "colab": {
          "base_uri": "https://localhost:8080/"
        }
      },
      "outputs": [
        {
          "output_type": "stream",
          "name": "stdout",
          "text": [
            "Parameter containing:\n",
            "tensor([[ 0.3208, -0.4872],\n",
            "        [-0.5012, -0.4676],\n",
            "        [-0.4645, -0.3802]], requires_grad=True)\n"
          ]
        }
      ],
      "source": [
        "import torch\n",
        "\n",
        "\n",
        "layer = torch.nn.Linear(2, 3)\n",
        "print(layer.weight)"
      ]
    },
    {
      "cell_type": "code",
      "execution_count": null,
      "id": "bd12f614-c46a-4c43-a22c-7e45088dcd6a",
      "metadata": {
        "id": "bd12f614-c46a-4c43-a22c-7e45088dcd6a",
        "outputId": "cfe063af-1d08-4513-b423-73843dac7e32",
        "colab": {
          "base_uri": "https://localhost:8080/"
        }
      },
      "outputs": [
        {
          "output_type": "stream",
          "name": "stdout",
          "text": [
            "Parameter containing:\n",
            "tensor([[ 0.3519,  0.1797],\n",
            "        [ 0.3982, -0.0328],\n",
            "        [-0.5613,  0.1462]], requires_grad=True)\n"
          ]
        }
      ],
      "source": [
        "layer = torch.nn.Linear(2, 3)\n",
        "print(layer.weight)"
      ]
    },
    {
      "cell_type": "markdown",
      "id": "a5a897b2-f3b7-48e9-a23a-adb7b016fd83",
      "metadata": {
        "id": "a5a897b2-f3b7-48e9-a23a-adb7b016fd83"
      },
      "source": [
        "### 랜덤 시드 사용하는 경우"
      ]
    },
    {
      "cell_type": "code",
      "execution_count": null,
      "id": "5c4388d8-f30c-41d8-90ff-1e88547beb87",
      "metadata": {
        "id": "5c4388d8-f30c-41d8-90ff-1e88547beb87",
        "outputId": "40279a55-be4b-4607-bc8e-70b673a0359d",
        "colab": {
          "base_uri": "https://localhost:8080/"
        }
      },
      "outputs": [
        {
          "output_type": "stream",
          "name": "stdout",
          "text": [
            "Parameter containing:\n",
            "tensor([[-0.2883,  0.0234],\n",
            "        [-0.3512,  0.2667],\n",
            "        [-0.6025,  0.5183]], requires_grad=True)\n"
          ]
        }
      ],
      "source": [
        "torch.manual_seed(123)\n",
        "\n",
        "layer = torch.nn.Linear(2, 3)\n",
        "print(layer.weight)"
      ]
    },
    {
      "cell_type": "code",
      "execution_count": null,
      "id": "26f89be0-1adf-4c3d-b3c3-a8316e7f50d9",
      "metadata": {
        "id": "26f89be0-1adf-4c3d-b3c3-a8316e7f50d9",
        "outputId": "254356a8-2ca7-481f-e815-64017d307607",
        "colab": {
          "base_uri": "https://localhost:8080/"
        }
      },
      "outputs": [
        {
          "output_type": "stream",
          "name": "stdout",
          "text": [
            "Parameter containing:\n",
            "tensor([[-0.2883,  0.0234],\n",
            "        [-0.3512,  0.2667],\n",
            "        [-0.6025,  0.5183]], requires_grad=True)\n"
          ]
        }
      ],
      "source": [
        "torch.manual_seed(123)\n",
        "\n",
        "layer = torch.nn.Linear(2, 3)\n",
        "print(layer.weight)"
      ]
    }
  ],
  "metadata": {
    "kernelspec": {
      "display_name": "Python 3 (ipykernel)",
      "language": "python",
      "name": "python3"
    },
    "language_info": {
      "codemirror_mode": {
        "name": "ipython",
        "version": 3
      },
      "file_extension": ".py",
      "mimetype": "text/x-python",
      "name": "python",
      "nbconvert_exporter": "python",
      "pygments_lexer": "ipython3",
      "version": "3.11.4"
    },
    "colab": {
      "provenance": [],
      "include_colab_link": true
    }
  },
  "nbformat": 4,
  "nbformat_minor": 5
}