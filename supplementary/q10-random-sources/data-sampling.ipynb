{
  "cells": [
    {
      "cell_type": "markdown",
      "metadata": {
        "id": "view-in-github",
        "colab_type": "text"
      },
      "source": [
        "<a href=\"https://colab.research.google.com/github/rickiepark/MLQandAI/blob/main/supplementary/q10-random-sources/data-sampling.ipynb\" target=\"_parent\"><img src=\"https://colab.research.google.com/assets/colab-badge.svg\" alt=\"Open In Colab\"/></a>"
      ]
    },
    {
      "cell_type": "markdown",
      "id": "e1096748-2cbb-4bf1-aa28-fd18dda97022",
      "metadata": {
        "id": "e1096748-2cbb-4bf1-aa28-fd18dda97022"
      },
      "source": [
        "# 데이터 샘플링과 셔플링"
      ]
    },
    {
      "cell_type": "markdown",
      "id": "ecdba48e-dbeb-4fd3-901f-88e71aec70d1",
      "metadata": {
        "id": "ecdba48e-dbeb-4fd3-901f-88e71aec70d1"
      },
      "source": [
        "### 랜덤 시드 없이 데이터 분할하기"
      ]
    },
    {
      "cell_type": "code",
      "execution_count": null,
      "id": "e569e619-5e76-492a-b110-0e3b36cb9149",
      "metadata": {
        "id": "e569e619-5e76-492a-b110-0e3b36cb9149"
      },
      "outputs": [],
      "source": [
        "import numpy as np\n",
        "\n",
        "x_toydata = np.array([1., 2., 3., 4., 5., 6., 7., 8., 9.])\n",
        "y_labels = np.array([ 0,  1,  0,  1, 1,  0,  0,  1,  0 ])"
      ]
    },
    {
      "cell_type": "code",
      "execution_count": null,
      "id": "c85040c1-81e3-4c08-9f07-644cd74cca8b",
      "metadata": {
        "id": "c85040c1-81e3-4c08-9f07-644cd74cca8b",
        "outputId": "985fab05-8045-4965-a4e3-03d5021a9bdd",
        "colab": {
          "base_uri": "https://localhost:8080/"
        }
      },
      "outputs": [
        {
          "output_type": "stream",
          "name": "stdout",
          "text": [
            "X_train [6. 9. 8. 5. 7. 2.]\n",
            "X_test [3. 1. 4.]\n"
          ]
        }
      ],
      "source": [
        "from sklearn.model_selection import train_test_split\n",
        "\n",
        "X_train, X_test, y_train, y_test = train_test_split(\n",
        "    x_toydata, y_labels, test_size=0.3, shuffle=True, stratify=y_labels\n",
        ")\n",
        "\n",
        "print(\"X_train\", X_train)\n",
        "print(\"X_test\", X_test)"
      ]
    },
    {
      "cell_type": "code",
      "execution_count": null,
      "id": "8631e484-791a-4adf-857a-2a0529a6bc1f",
      "metadata": {
        "id": "8631e484-791a-4adf-857a-2a0529a6bc1f",
        "outputId": "d8407cce-1393-4f41-9d14-142d9c490951",
        "colab": {
          "base_uri": "https://localhost:8080/"
        }
      },
      "outputs": [
        {
          "output_type": "stream",
          "name": "stdout",
          "text": [
            "X_train [3. 7. 4. 2. 5. 1.]\n",
            "X_test [8. 9. 6.]\n"
          ]
        }
      ],
      "source": [
        "X_train, X_test, y_train, y_test = train_test_split(\n",
        "    x_toydata, y_labels, test_size=0.3, shuffle=True, stratify=y_labels\n",
        ")\n",
        "\n",
        "print(\"X_train\", X_train)\n",
        "print(\"X_test\", X_test)"
      ]
    },
    {
      "cell_type": "markdown",
      "id": "3e8ecec5-b9d8-487c-872b-34537ab7c441",
      "metadata": {
        "id": "3e8ecec5-b9d8-487c-872b-34537ab7c441"
      },
      "source": [
        "### 랜덤 시드를 사용해 데이터 분할하기"
      ]
    },
    {
      "cell_type": "code",
      "execution_count": null,
      "id": "d49b4ee6-b4ff-4d5b-adb4-3fc541fb0b9a",
      "metadata": {
        "id": "d49b4ee6-b4ff-4d5b-adb4-3fc541fb0b9a",
        "outputId": "95cb214b-c95e-42aa-8269-2564985686d7",
        "colab": {
          "base_uri": "https://localhost:8080/"
        }
      },
      "outputs": [
        {
          "output_type": "stream",
          "name": "stdout",
          "text": [
            "X_train [9. 2. 8. 3. 5. 7.]\n",
            "X_test [4. 1. 6.]\n"
          ]
        }
      ],
      "source": [
        "X_train, X_test, y_train, y_test = train_test_split(\n",
        "    x_toydata, y_labels, test_size=0.3, shuffle=True, stratify=y_labels,\n",
        "    random_state=123\n",
        ")\n",
        "\n",
        "print(\"X_train\", X_train)\n",
        "print(\"X_test\", X_test)"
      ]
    },
    {
      "cell_type": "code",
      "execution_count": null,
      "id": "e2a87370-de68-4c92-9d99-3faed33657f4",
      "metadata": {
        "id": "e2a87370-de68-4c92-9d99-3faed33657f4",
        "outputId": "0ba02923-1a81-4442-9020-9601a15bd816",
        "colab": {
          "base_uri": "https://localhost:8080/"
        }
      },
      "outputs": [
        {
          "output_type": "stream",
          "name": "stdout",
          "text": [
            "X_train [9. 2. 8. 3. 5. 7.]\n",
            "X_test [4. 1. 6.]\n"
          ]
        }
      ],
      "source": [
        "X_train, X_test, y_train, y_test = train_test_split(\n",
        "    x_toydata, y_labels, test_size=0.3, shuffle=True, stratify=y_labels,\n",
        "    random_state=123\n",
        ")\n",
        "\n",
        "print(\"X_train\", X_train)\n",
        "print(\"X_test\", X_test)"
      ]
    },
    {
      "cell_type": "markdown",
      "id": "2a5650fd-30b7-4d69-bbce-77f2c36ad272",
      "metadata": {
        "id": "2a5650fd-30b7-4d69-bbce-77f2c36ad272"
      },
      "source": [
        "### 랜덤 시드 없이 K-폴드 분할하기"
      ]
    },
    {
      "cell_type": "code",
      "execution_count": null,
      "id": "9e234e41-2ac8-4aa9-b165-c30ee1a12448",
      "metadata": {
        "id": "9e234e41-2ac8-4aa9-b165-c30ee1a12448",
        "outputId": "304aa18f-4703-4980-8efe-9373eaae5278",
        "colab": {
          "base_uri": "https://localhost:8080/"
        }
      },
      "outputs": [
        {
          "output_type": "stream",
          "name": "stdout",
          "text": [
            "특성 값 [1. 3. 4. 5. 7. 8.]\n",
            "특성 값 [2. 3. 4. 5. 6. 9.]\n",
            "특성 값 [1. 2. 6. 7. 8. 9.]\n"
          ]
        }
      ],
      "source": [
        "from sklearn.model_selection import StratifiedKFold\n",
        "\n",
        "cv = StratifiedKFold(n_splits=3, shuffle=True)\n",
        "\n",
        "for train_idx, valid_idx in cv.split(x_toydata, y_labels):\n",
        "    print(\"특성 값\", x_toydata[train_idx])"
      ]
    },
    {
      "cell_type": "code",
      "execution_count": null,
      "id": "ba10c301-3346-4c21-913e-4c240d932084",
      "metadata": {
        "id": "ba10c301-3346-4c21-913e-4c240d932084",
        "outputId": "d3012908-f6a3-41b9-eca9-036279b3538a",
        "colab": {
          "base_uri": "https://localhost:8080/"
        }
      },
      "outputs": [
        {
          "output_type": "stream",
          "name": "stdout",
          "text": [
            "특성 값 [2. 3. 5. 6. 8. 9.]\n",
            "특성 값 [1. 2. 3. 4. 7. 8.]\n",
            "특성 값 [1. 4. 5. 6. 7. 9.]\n"
          ]
        }
      ],
      "source": [
        "for train_idx, valid_idx in cv.split(x_toydata, y_labels):\n",
        "    print(\"특성 값\", x_toydata[train_idx])"
      ]
    },
    {
      "cell_type": "markdown",
      "id": "1961da6d-50ea-4247-82d8-c0ee3f592edd",
      "metadata": {
        "id": "1961da6d-50ea-4247-82d8-c0ee3f592edd"
      },
      "source": [
        "### 랜덤 시드를 사용해 K-폴드 분할하기"
      ]
    },
    {
      "cell_type": "code",
      "execution_count": null,
      "id": "4f0390cb-ff36-4441-968e-cf1e2bde21ac",
      "metadata": {
        "id": "4f0390cb-ff36-4441-968e-cf1e2bde21ac",
        "outputId": "3847dc02-fd55-48cf-d61f-cacecda5c762",
        "colab": {
          "base_uri": "https://localhost:8080/"
        }
      },
      "outputs": [
        {
          "output_type": "stream",
          "name": "stdout",
          "text": [
            "특성 값 [3. 4. 5. 6. 8. 9.]\n",
            "특성 값 [1. 2. 4. 5. 6. 7.]\n",
            "특성 값 [1. 2. 3. 7. 8. 9.]\n"
          ]
        }
      ],
      "source": [
        "cv = StratifiedKFold(n_splits=3, random_state=123, shuffle=True)\n",
        "\n",
        "for train_idx, valid_idx in cv.split(x_toydata, y_labels):\n",
        "    print(\"특성 값\", x_toydata[train_idx])"
      ]
    },
    {
      "cell_type": "code",
      "execution_count": null,
      "id": "dd766cf8-c818-4f43-9b4c-a0d51ef8ec21",
      "metadata": {
        "id": "dd766cf8-c818-4f43-9b4c-a0d51ef8ec21",
        "outputId": "2cd133ac-1a6b-4ff2-996a-d858c810223e",
        "colab": {
          "base_uri": "https://localhost:8080/"
        }
      },
      "outputs": [
        {
          "output_type": "stream",
          "name": "stdout",
          "text": [
            "특성 값 [3. 4. 5. 6. 8. 9.]\n",
            "특성 값 [1. 2. 4. 5. 6. 7.]\n",
            "특성 값 [1. 2. 3. 7. 8. 9.]\n"
          ]
        }
      ],
      "source": [
        "cv = StratifiedKFold(n_splits=3, random_state=123, shuffle=True)\n",
        "\n",
        "for train_idx, valid_idx in cv.split(x_toydata, y_labels):\n",
        "    print(\"특성 값\", x_toydata[train_idx])"
      ]
    },
    {
      "cell_type": "markdown",
      "id": "6c9b9986",
      "metadata": {
        "id": "6c9b9986"
      },
      "source": [
        "## 랜덤 시드 없이 데이터셋 로드하기"
      ]
    },
    {
      "cell_type": "code",
      "execution_count": null,
      "id": "82de5768",
      "metadata": {
        "id": "82de5768",
        "outputId": "4d1412b8-cbc1-4dfe-9442-1c9be29f0a3d",
        "colab": {
          "base_uri": "https://localhost:8080/"
        }
      },
      "outputs": [
        {
          "output_type": "stream",
          "name": "stdout",
          "text": [
            "Downloading http://yann.lecun.com/exdb/mnist/train-images-idx3-ubyte.gz\n",
            "Failed to download (trying next):\n",
            "<urlopen error [Errno 110] Connection timed out>\n",
            "\n",
            "Downloading https://ossci-datasets.s3.amazonaws.com/mnist/train-images-idx3-ubyte.gz\n",
            "Downloading https://ossci-datasets.s3.amazonaws.com/mnist/train-images-idx3-ubyte.gz to ./data/MNIST/raw/train-images-idx3-ubyte.gz\n"
          ]
        },
        {
          "output_type": "stream",
          "name": "stderr",
          "text": [
            "100%|██████████| 9.91M/9.91M [00:00<00:00, 35.7MB/s]\n"
          ]
        },
        {
          "output_type": "stream",
          "name": "stdout",
          "text": [
            "Extracting ./data/MNIST/raw/train-images-idx3-ubyte.gz to ./data/MNIST/raw\n",
            "\n",
            "Downloading http://yann.lecun.com/exdb/mnist/train-labels-idx1-ubyte.gz\n",
            "Failed to download (trying next):\n",
            "<urlopen error [Errno 110] Connection timed out>\n",
            "\n",
            "Downloading https://ossci-datasets.s3.amazonaws.com/mnist/train-labels-idx1-ubyte.gz\n",
            "Downloading https://ossci-datasets.s3.amazonaws.com/mnist/train-labels-idx1-ubyte.gz to ./data/MNIST/raw/train-labels-idx1-ubyte.gz\n"
          ]
        },
        {
          "output_type": "stream",
          "name": "stderr",
          "text": [
            "100%|██████████| 28.9k/28.9k [00:00<00:00, 1.12MB/s]\n"
          ]
        },
        {
          "output_type": "stream",
          "name": "stdout",
          "text": [
            "Extracting ./data/MNIST/raw/train-labels-idx1-ubyte.gz to ./data/MNIST/raw\n",
            "\n",
            "Downloading http://yann.lecun.com/exdb/mnist/t10k-images-idx3-ubyte.gz\n",
            "Failed to download (trying next):\n",
            "<urlopen error [Errno 110] Connection timed out>\n",
            "\n",
            "Downloading https://ossci-datasets.s3.amazonaws.com/mnist/t10k-images-idx3-ubyte.gz\n",
            "Downloading https://ossci-datasets.s3.amazonaws.com/mnist/t10k-images-idx3-ubyte.gz to ./data/MNIST/raw/t10k-images-idx3-ubyte.gz\n"
          ]
        },
        {
          "output_type": "stream",
          "name": "stderr",
          "text": [
            "100%|██████████| 1.65M/1.65M [00:00<00:00, 9.48MB/s]\n"
          ]
        },
        {
          "output_type": "stream",
          "name": "stdout",
          "text": [
            "Extracting ./data/MNIST/raw/t10k-images-idx3-ubyte.gz to ./data/MNIST/raw\n",
            "\n",
            "Downloading http://yann.lecun.com/exdb/mnist/t10k-labels-idx1-ubyte.gz\n",
            "Failed to download (trying next):\n",
            "<urlopen error [Errno 110] Connection timed out>\n",
            "\n",
            "Downloading https://ossci-datasets.s3.amazonaws.com/mnist/t10k-labels-idx1-ubyte.gz\n",
            "Downloading https://ossci-datasets.s3.amazonaws.com/mnist/t10k-labels-idx1-ubyte.gz to ./data/MNIST/raw/t10k-labels-idx1-ubyte.gz\n"
          ]
        },
        {
          "output_type": "stream",
          "name": "stderr",
          "text": [
            "100%|██████████| 4.54k/4.54k [00:00<00:00, 4.87MB/s]\n"
          ]
        },
        {
          "output_type": "stream",
          "name": "stdout",
          "text": [
            "Extracting ./data/MNIST/raw/t10k-labels-idx1-ubyte.gz to ./data/MNIST/raw\n",
            "\n",
            "tensor([2, 3, 4, 5, 7, 0, 2, 4])\n"
          ]
        }
      ],
      "source": [
        "from torchvision import datasets, transforms\n",
        "from torch.utils.data import DataLoader\n",
        "\n",
        "\n",
        "train_dataset = datasets.MNIST(root='./data', train=True,\n",
        "                               transform=transforms.ToTensor(), download=True)\n",
        "train_loader = DataLoader(dataset=train_dataset, batch_size=8, shuffle=True)\n",
        "\n",
        "for inputs, labels in train_loader:\n",
        "    pass\n",
        "print(labels)"
      ]
    },
    {
      "cell_type": "code",
      "execution_count": null,
      "id": "8def12a3",
      "metadata": {
        "id": "8def12a3",
        "outputId": "14fd02ac-fbd8-40c7-832c-d5b6c75371d1",
        "colab": {
          "base_uri": "https://localhost:8080/"
        }
      },
      "outputs": [
        {
          "output_type": "stream",
          "name": "stdout",
          "text": [
            "tensor([0, 1, 0, 8, 0, 9, 8, 6])\n"
          ]
        }
      ],
      "source": [
        "train_loader = DataLoader(dataset=train_dataset, batch_size=8, shuffle=True)\n",
        "\n",
        "for inputs, labels in train_loader:\n",
        "    pass\n",
        "print(labels)"
      ]
    },
    {
      "cell_type": "markdown",
      "id": "18d33c0c",
      "metadata": {
        "id": "18d33c0c"
      },
      "source": [
        "## 랜덤 시드를 사용해 데이터셋 로드하기"
      ]
    },
    {
      "cell_type": "code",
      "execution_count": null,
      "id": "30627a3d",
      "metadata": {
        "id": "30627a3d",
        "outputId": "401d3cf3-7ee4-4657-cc75-19d4c676ec0a",
        "colab": {
          "base_uri": "https://localhost:8080/"
        }
      },
      "outputs": [
        {
          "output_type": "stream",
          "name": "stdout",
          "text": [
            "tensor([1, 8, 8, 7, 2, 5, 4, 1])\n"
          ]
        }
      ],
      "source": [
        "import torch\n",
        "\n",
        "torch.manual_seed(123)\n",
        "train_loader = DataLoader(dataset=train_dataset, batch_size=8, shuffle=True)\n",
        "\n",
        "for inputs, labels in train_loader:\n",
        "    pass\n",
        "print(labels)"
      ]
    },
    {
      "cell_type": "code",
      "execution_count": null,
      "id": "e346084e",
      "metadata": {
        "id": "e346084e",
        "outputId": "01fbd21c-3b56-49ac-fed5-0bc9eb2795a8",
        "colab": {
          "base_uri": "https://localhost:8080/"
        }
      },
      "outputs": [
        {
          "output_type": "stream",
          "name": "stdout",
          "text": [
            "tensor([1, 8, 8, 7, 2, 5, 4, 1])\n"
          ]
        }
      ],
      "source": [
        "torch.manual_seed(123)\n",
        "train_loader = DataLoader(dataset=train_dataset, batch_size=8, shuffle=True)\n",
        "\n",
        "for inputs, labels in train_loader:\n",
        "    pass\n",
        "print(labels)"
      ]
    }
  ],
  "metadata": {
    "kernelspec": {
      "display_name": "Python 3 (ipykernel)",
      "language": "python",
      "name": "python3"
    },
    "language_info": {
      "codemirror_mode": {
        "name": "ipython",
        "version": 3
      },
      "file_extension": ".py",
      "mimetype": "text/x-python",
      "name": "python",
      "nbconvert_exporter": "python",
      "pygments_lexer": "ipython3",
      "version": "3.10.6"
    },
    "colab": {
      "provenance": [],
      "include_colab_link": true
    }
  },
  "nbformat": 4,
  "nbformat_minor": 5
}