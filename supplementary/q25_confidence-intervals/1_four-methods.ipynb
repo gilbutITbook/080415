{
  "cells": [
    {
      "cell_type": "markdown",
      "metadata": {
        "id": "view-in-github",
        "colab_type": "text"
      },
      "source": [
        "<a href=\"https://colab.research.google.com/github/rickiepark/MLQandAI/blob/main/supplementary/q25_confidence-intervals/1_four-methods.ipynb\" target=\"_parent\"><img src=\"https://colab.research.google.com/assets/colab-badge.svg\" alt=\"Open In Colab\"/></a>"
      ]
    },
    {
      "cell_type": "markdown",
      "metadata": {
        "id": "X9twrGuBvZOA"
      },
      "source": [
        "# 신뢰 구간 구성하기"
      ]
    },
    {
      "cell_type": "code",
      "execution_count": null,
      "metadata": {
        "id": "VAUsWM-kvZOC",
        "outputId": "cb791dc7-3c20-4272-ec40-794763f2ea72",
        "colab": {
          "base_uri": "https://localhost:8080/"
        }
      },
      "outputs": [
        {
          "output_type": "stream",
          "name": "stdout",
          "text": [
            "\u001b[?25l   \u001b[90m━━━━━━━━━━━━━━━━━━━━━━━━━━━━━━━━━━━━━━━━\u001b[0m \u001b[32m0.0/1.6 MB\u001b[0m \u001b[31m?\u001b[0m eta \u001b[36m-:--:--\u001b[0m\r\u001b[2K   \u001b[91m━━━━━━━━━━━━━━━━━━━━━━━━━━━━━━━\u001b[0m\u001b[90m╺\u001b[0m\u001b[90m━━━━━━━━\u001b[0m \u001b[32m1.2/1.6 MB\u001b[0m \u001b[31m30.7 MB/s\u001b[0m eta \u001b[36m0:00:01\u001b[0m\r\u001b[2K   \u001b[91m━━━━━━━━━━━━━━━━━━━━━━━━━━━━━━━━━━━━━━━\u001b[0m\u001b[91m╸\u001b[0m \u001b[32m1.6/1.6 MB\u001b[0m \u001b[31m28.2 MB/s\u001b[0m eta \u001b[36m0:00:01\u001b[0m\r\u001b[2K   \u001b[90m━━━━━━━━━━━━━━━━━━━━━━━━━━━━━━━━━━━━━━━━\u001b[0m \u001b[32m1.6/1.6 MB\u001b[0m \u001b[31m17.7 MB/s\u001b[0m eta \u001b[36m0:00:00\u001b[0m\n",
            "\u001b[?25hAuthor: Sebastian Raschka\n",
            "\n",
            "Python implementation: CPython\n",
            "Python version       : 3.11.11\n",
            "IPython version      : 7.34.0\n",
            "\n",
            "numpy     : 1.26.4\n",
            "mlxtend   : 0.23.3\n",
            "matplotlib: 3.10.0\n",
            "sklearn   : 1.6.0\n",
            "\n"
          ]
        }
      ],
      "source": [
        "!pip install --quiet watermark\n",
        "\n",
        "%load_ext watermark\n",
        "%watermark -a 'Sebastian Raschka' -v -p numpy,mlxtend,matplotlib,sklearn"
      ]
    },
    {
      "cell_type": "code",
      "execution_count": null,
      "metadata": {
        "id": "89CyU5F7vZOD"
      },
      "outputs": [],
      "source": [
        "%matplotlib inline\n",
        "import matplotlib.pyplot as plt\n",
        "import numpy as np"
      ]
    },
    {
      "cell_type": "markdown",
      "metadata": {
        "id": "72nz2wObvZOE"
      },
      "source": [
        "## 실습을 위해 데이터셋과 모델 정의하기"
      ]
    },
    {
      "cell_type": "code",
      "execution_count": null,
      "metadata": {
        "id": "Iz8YjttMvZOE"
      },
      "outputs": [],
      "source": [
        "from sklearn.datasets import load_digits\n",
        "from sklearn.model_selection import train_test_split\n",
        "from sklearn.neural_network import MLPClassifier\n",
        "\n",
        "digits = load_digits()\n",
        "\n",
        "X = digits.data / 16. - 0.5 # 데이터셋을 -0.5 ~ 0.5 범위로 정규화합니다\n",
        "y = digits.target\n",
        "\n",
        "X_train, X_test, y_train, y_test = train_test_split(\n",
        "    X, y, test_size=0.15, random_state=123, stratify=y\n",
        ")\n",
        "\n",
        "clf = MLPClassifier(\n",
        "    hidden_layer_sizes=(10,),\n",
        "    activation=\"relu\",\n",
        "    learning_rate_init=0.01,\n",
        "    random_state=123,\n",
        "    solver=\"adam\",\n",
        "    max_iter=500\n",
        ")"
      ]
    },
    {
      "cell_type": "markdown",
      "metadata": {
        "id": "ADHN6YbEvZOE"
      },
      "source": [
        "## 1) 테스트 세트 기반의 정규 근사 구간"
      ]
    },
    {
      "cell_type": "markdown",
      "metadata": {
        "id": "oGzgViszvZOF"
      },
      "source": [
        "- 통계 교과서에 실린 $z$ 표를 찾는 대신 `scipy.stats.norm.ppf`를 사용해 z-값을 구합니다."
      ]
    },
    {
      "cell_type": "code",
      "execution_count": null,
      "metadata": {
        "id": "ahmiKrZEvZOF",
        "outputId": "88748c52-da03-45ee-db61-3a4684fd48b3",
        "colab": {
          "base_uri": "https://localhost:8080/"
        }
      },
      "outputs": [
        {
          "output_type": "stream",
          "name": "stdout",
          "text": [
            "1.959963984540054\n"
          ]
        }
      ],
      "source": [
        "import scipy.stats\n",
        "\n",
        "confidence = 0.95  # 원하는 신뢰 수준으로 바꾸세요\n",
        "z_value = scipy.stats.norm.ppf((1 + confidence) / 2.0)\n",
        "print(z_value)"
      ]
    },
    {
      "cell_type": "markdown",
      "metadata": {
        "id": "lX5ucYakvZOF"
      },
      "source": [
        "- 다음으로 분류기의 테스트 정확도를 계산하고, 이 값을 위 공식에 대입합니다. 파이썬 코드는 다음과 같습니다:"
      ]
    },
    {
      "cell_type": "code",
      "execution_count": null,
      "metadata": {
        "id": "P2M4M85SvZOG",
        "outputId": "346db799-0c34-4be1-ee02-9b7dd238740d",
        "colab": {
          "base_uri": "https://localhost:8080/"
        }
      },
      "outputs": [
        {
          "output_type": "stream",
          "name": "stdout",
          "text": [
            "0.9601953017724117 0.9953602537831437\n"
          ]
        }
      ],
      "source": [
        "import numpy as np\n",
        "\n",
        "clf.fit(X_train, y_train)\n",
        "\n",
        "acc_test = clf.score(X_test, y_test)\n",
        "ci_length = z_value * np.sqrt((acc_test * (1 - acc_test)) / y_test.shape[0])\n",
        "\n",
        "ci_lower = acc_test - ci_length\n",
        "ci_upper = acc_test + ci_length\n",
        "\n",
        "print(ci_lower, ci_upper)"
      ]
    },
    {
      "cell_type": "markdown",
      "metadata": {
        "id": "zM-7G4ONvZOG"
      },
      "source": [
        "- 다음 코드로 신뢰 구간을 시각화해 보죠:"
      ]
    },
    {
      "cell_type": "code",
      "execution_count": null,
      "metadata": {
        "id": "4bk__TO4vZOG",
        "outputId": "16f322d6-154f-4fc1-ad1c-c6424c736d5e",
        "colab": {
          "base_uri": "https://localhost:8080/",
          "height": 307
        }
      },
      "outputs": [
        {
          "output_type": "display_data",
          "data": {
            "text/plain": [
              "<Figure size 700x300 with 1 Axes>"
            ],
            "image/png": "[encoded data removed]"
          },
          "metadata": {}
        }
      ],
      "source": [
        "%matplotlib inline\n",
        "import matplotlib.pyplot as plt\n",
        "\n",
        "fig, ax = plt.subplots(figsize=(7, 3))\n",
        "\n",
        "ax.errorbar(acc_test, 0, xerr=ci_length, fmt=\"o\")\n",
        "\n",
        "ax.set_xlim([0.8, 1.0])\n",
        "\n",
        "ax.set_yticks(np.arange(1))\n",
        "ax.set_yticklabels([\"Normal approximation interval\"])\n",
        "ax.set_xlabel(\"Prediction accuracy\")\n",
        "\n",
        "plt.tight_layout()\n",
        "plt.grid(axis=\"x\")\n",
        "plt.show()"
      ]
    },
    {
      "cell_type": "markdown",
      "metadata": {
        "id": "9zNltQ-8vZOG"
      },
      "source": [
        "- 마지막으로 나중에 다른 신뢰 구간과 비교할 때 사용하기 위해 신뢰 구간을 파이썬 딕셔너리로 저장합니다:"
      ]
    },
    {
      "cell_type": "code",
      "execution_count": null,
      "metadata": {
        "id": "rFIhOSKavZOG"
      },
      "outputs": [],
      "source": [
        "results = {\n",
        "    \"Method 1: Normal approximation\": {\n",
        "        \"Test accuracy\": acc_test,\n",
        "        \"Lower 95% CI\": ci_lower,\n",
        "        \"Upper 95% CI\": ci_upper,\n",
        "    }\n",
        "}"
      ]
    },
    {
      "cell_type": "markdown",
      "metadata": {
        "id": "H7R309g3vZOG"
      },
      "source": [
        "## 2) 훈련 세트 부트스트래핑하기"
      ]
    },
    {
      "cell_type": "code",
      "execution_count": null,
      "metadata": {
        "id": "1COzuNRgvZOG",
        "outputId": "e9b5cc87-5378-483b-e0b1-15a115d6ee1e",
        "colab": {
          "base_uri": "https://localhost:8080/"
        }
      },
      "outputs": [
        {
          "output_type": "execute_result",
          "data": {
            "text/plain": [
              "0.9553670076911844"
            ]
          },
          "metadata": {},
          "execution_count": 8
        }
      ],
      "source": [
        "import numpy as np\n",
        "\n",
        "rng = np.random.RandomState(seed=12345)\n",
        "idx = np.arange(y_train.shape[0])\n",
        "\n",
        "bootstrap_train_accuracies = []\n",
        "bootstrap_rounds = 200\n",
        "\n",
        "\n",
        "for i in range(bootstrap_rounds):\n",
        "\n",
        "    train_idx = rng.choice(idx, size=idx.shape[0], replace=True)\n",
        "    valid_idx = np.setdiff1d(idx, train_idx, assume_unique=False)\n",
        "\n",
        "    boot_train_X, boot_train_y = X_train[train_idx], y_train[train_idx]\n",
        "    boot_valid_X, boot_valid_y = X_train[valid_idx], y_train[valid_idx]\n",
        "\n",
        "    clf.fit(boot_train_X, boot_train_y)\n",
        "    acc = clf.score(boot_valid_X, boot_valid_y)\n",
        "    bootstrap_train_accuracies.append(acc)\n",
        "\n",
        "bootstrap_train_mean = np.mean(bootstrap_train_accuracies)\n",
        "bootstrap_train_mean"
      ]
    },
    {
      "cell_type": "markdown",
      "metadata": {
        "id": "hecih0uZvZOH"
      },
      "source": [
        "- 부트스트래핑 테스트 정확도($ \\text{ACC}_{\\text{boot}, j}$)와 샘플 평균($\\text{ACC}_{\\text{bootavg}}$)을 히스토그램으로 시각화할 수 있습니다."
      ]
    },
    {
      "cell_type": "code",
      "execution_count": null,
      "metadata": {
        "id": "TGwa5F1UvZOH",
        "outputId": "ba8ffb23-7f58-4d61-e617-5510016ddfd0",
        "colab": {
          "base_uri": "https://localhost:8080/",
          "height": 407
        }
      },
      "outputs": [
        {
          "output_type": "display_data",
          "data": {
            "text/plain": [
              "<Figure size 800x400 with 1 Axes>"
            ],
            "image/png": "[encoded data removed]"
          },
          "metadata": {}
        }
      ],
      "source": [
        "fig, ax = plt.subplots(figsize=(8, 4))\n",
        "\n",
        "ax.vlines(bootstrap_train_mean, [0], 80, lw=2.5, linestyle=\"-\", label=\"Mean\")\n",
        "\n",
        "ax.hist(\n",
        "    bootstrap_train_accuracies, bins=7, color=\"#0080ff\", edgecolor=\"none\", alpha=0.3\n",
        ")\n",
        "plt.legend(loc=\"upper left\")\n",
        "\n",
        "plt.xlim([0.9, 1.0])\n",
        "\n",
        "plt.xlabel('Accuracy')\n",
        "plt.ylabel('Count')\n",
        "\n",
        "plt.tight_layout()\n",
        "plt.grid()\n",
        "plt.show()"
      ]
    },
    {
      "cell_type": "markdown",
      "metadata": {
        "id": "waLcyLOMvZOH"
      },
      "source": [
        "#### 백분위 방법 사용하기"
      ]
    },
    {
      "cell_type": "code",
      "execution_count": null,
      "metadata": {
        "id": "mk4OEJx5vZOH",
        "outputId": "df44c3b2-0beb-4fd1-f5c2-1239f9c87651",
        "colab": {
          "base_uri": "https://localhost:8080/"
        }
      },
      "outputs": [
        {
          "output_type": "stream",
          "name": "stdout",
          "text": [
            "0.9403296497471437 0.970772977022977\n"
          ]
        }
      ],
      "source": [
        "ci_lower = np.percentile(bootstrap_train_accuracies, 2.5)\n",
        "ci_upper = np.percentile(bootstrap_train_accuracies, 97.5)\n",
        "\n",
        "print(ci_lower, ci_upper)"
      ]
    },
    {
      "cell_type": "markdown",
      "metadata": {
        "id": "haS6RFRmvZOH"
      },
      "source": [
        "- 앞의 그림에 나타내 보죠."
      ]
    },
    {
      "cell_type": "code",
      "execution_count": null,
      "metadata": {
        "id": "2mVSMtaSvZOH",
        "outputId": "e0ab260a-72fe-4c29-e2e7-9d614c010583",
        "colab": {
          "base_uri": "https://localhost:8080/",
          "height": 407
        }
      },
      "outputs": [
        {
          "output_type": "display_data",
          "data": {
            "text/plain": [
              "<Figure size 800x400 with 1 Axes>"
            ],
            "image/png": "[encoded data removed]"
          },
          "metadata": {}
        }
      ],
      "source": [
        "fig, ax = plt.subplots(figsize=(8, 4))\n",
        "ax.vlines(bootstrap_train_mean, [0], 80, lw=2.5, linestyle=\"-\", label=\"Mean\")\n",
        "\n",
        "ax.vlines(ci_lower, [0], 15, lw=2.5, linestyle=\"dotted\", label=\"95% CI\", color=\"C2\")\n",
        "ax.vlines(ci_upper, [0], 15, lw=2.5, linestyle=\"dotted\", color=\"C2\")\n",
        "\n",
        "ax.hist(\n",
        "    bootstrap_train_accuracies, bins=7, color=\"#0080ff\", edgecolor=\"none\", alpha=0.3\n",
        ")\n",
        "plt.legend(loc=\"upper left\")\n",
        "\n",
        "plt.xlim([0.9, 1.0])\n",
        "plt.xlabel('Accuracy')\n",
        "plt.ylabel('Count')\n",
        "\n",
        "plt.tight_layout()\n",
        "plt.grid()\n",
        "\n",
        "plt.show()"
      ]
    },
    {
      "cell_type": "code",
      "execution_count": null,
      "metadata": {
        "id": "mZ9LK1ppvZOH"
      },
      "outputs": [],
      "source": [
        "results[\"Method 2: Bootstrap, percentile\"] = {\n",
        "    \"Test accuracy\": bootstrap_train_mean,\n",
        "    \"Lower 95% CI\": ci_lower,\n",
        "    \"Upper 95% CI\": ci_upper,\n",
        "}"
      ]
    },
    {
      "cell_type": "markdown",
      "metadata": {
        "id": "V5SavYI1vZOI"
      },
      "source": [
        "## 3) 테스트 세트 예측 부트스트래핑하기"
      ]
    },
    {
      "cell_type": "code",
      "execution_count": null,
      "metadata": {
        "id": "qXuTVxIuvZOI",
        "outputId": "bb803131-7d59-447f-a438-3f8b070c63db",
        "colab": {
          "base_uri": "https://localhost:8080/"
        }
      },
      "outputs": [
        {
          "output_type": "execute_result",
          "data": {
            "text/plain": [
              "0.9785555555555555"
            ]
          },
          "metadata": {},
          "execution_count": 13
        }
      ],
      "source": [
        "clf.fit(X_train, y_train)\n",
        "\n",
        "predictions_test = clf.predict(X_test)\n",
        "acc_test = np.mean(predictions_test == y_test)\n",
        "\n",
        "rng = np.random.RandomState(seed=12345)\n",
        "idx = np.arange(y_test.shape[0])\n",
        "\n",
        "test_accuracies = []\n",
        "\n",
        "for i in range(200):\n",
        "\n",
        "    pred_idx = rng.choice(idx, size=idx.shape[0], replace=True)\n",
        "    acc_test_boot = np.mean(predictions_test[pred_idx] == y_test[pred_idx])\n",
        "    test_accuracies.append(acc_test_boot)\n",
        "\n",
        "bootstrap_train_mean = np.mean(test_accuracies)\n",
        "bootstrap_train_mean"
      ]
    },
    {
      "cell_type": "markdown",
      "metadata": {
        "id": "wKFVIuCMvZOI"
      },
      "source": [
        "- 백분위 방법을 사용해 신뢰 구간을 얻을 수 있습니다:"
      ]
    },
    {
      "cell_type": "code",
      "execution_count": null,
      "metadata": {
        "id": "SUuwzxFBvZOI",
        "outputId": "15d5460e-e7f9-4604-e482-21fdd0d65975",
        "colab": {
          "base_uri": "https://localhost:8080/"
        }
      },
      "outputs": [
        {
          "output_type": "stream",
          "name": "stdout",
          "text": [
            "0.9629629629629629 0.9925925925925926\n"
          ]
        }
      ],
      "source": [
        "ci_lower = np.percentile(test_accuracies, 2.5)\n",
        "ci_upper = np.percentile(test_accuracies, 97.5)\n",
        "\n",
        "print(ci_lower, ci_upper)"
      ]
    },
    {
      "cell_type": "code",
      "execution_count": null,
      "metadata": {
        "id": "l2DPFlCivZOI"
      },
      "outputs": [],
      "source": [
        "results[\"Method 3: Bootstrap test set\"] = {\n",
        "    \"Test accuracy\": bootstrap_train_mean,\n",
        "    \"Lower 95% CI\": ci_lower,\n",
        "    \"Upper 95% CI\": ci_upper,\n",
        "}"
      ]
    },
    {
      "cell_type": "markdown",
      "metadata": {
        "id": "ehmUkSE9vZOI"
      },
      "source": [
        "## 4) 다른 랜덤 시드로 모델을 재훈련하기"
      ]
    },
    {
      "cell_type": "code",
      "execution_count": null,
      "metadata": {
        "id": "gT9F3grhvZOI",
        "outputId": "e75ee184-41d1-49c1-c7e2-d37f9db9be01",
        "colab": {
          "base_uri": "https://localhost:8080/"
        }
      },
      "outputs": [
        {
          "output_type": "execute_result",
          "data": {
            "text/plain": [
              "0.9740740740740741"
            ]
          },
          "metadata": {},
          "execution_count": 16
        }
      ],
      "source": [
        "test_accuracies = []\n",
        "rounds = 5\n",
        "\n",
        "\n",
        "for i in range(rounds):\n",
        "\n",
        "    clf = MLPClassifier(\n",
        "        hidden_layer_sizes=(10,),\n",
        "        activation=\"relu\",\n",
        "        learning_rate_init=0.01,\n",
        "        random_state=i,  # 랜덤 시드만 수정합니다.\n",
        "        solver=\"adam\",\n",
        "        max_iter=500\n",
        ")\n",
        "\n",
        "    clf.fit(X_train, y_train)\n",
        "    acc = clf.score(X_test, y_test)\n",
        "    test_accuracies.append(acc)\n",
        "\n",
        "test_mean = np.mean(test_accuracies)\n",
        "test_mean"
      ]
    },
    {
      "cell_type": "code",
      "execution_count": null,
      "metadata": {
        "id": "VYMTV6GQvZOI",
        "outputId": "3915f28c-04e6-4e65-9ee1-c819f2d8ae3c",
        "colab": {
          "base_uri": "https://localhost:8080/"
        }
      },
      "outputs": [
        {
          "output_type": "stream",
          "name": "stdout",
          "text": [
            "0.9668028031056387 0.9813453450425095\n"
          ]
        }
      ],
      "source": [
        "confidence = 0.95  # 원하는 신뢰 수준으로 바꾸세요\n",
        "t_value = scipy.stats.t.ppf((1 + confidence) / 2.0, df=rounds - 1)\n",
        "\n",
        "sd = np.std(test_accuracies, ddof=1)\n",
        "se = sd / np.sqrt(rounds)\n",
        "\n",
        "ci_length = t_value * se\n",
        "\n",
        "ci_lower = test_mean - ci_length\n",
        "ci_upper = test_mean + ci_length\n",
        "\n",
        "print(ci_lower, ci_upper)"
      ]
    },
    {
      "cell_type": "code",
      "execution_count": null,
      "metadata": {
        "id": "LpCgcTrFvZOJ"
      },
      "outputs": [],
      "source": [
        "results[\"Method 4: Random seeds\"] = {\n",
        "    \"Test accuracy\": test_mean,\n",
        "    \"Lower 95% CI\": ci_lower,\n",
        "    \"Upper 95% CI\": ci_upper,\n",
        "}"
      ]
    },
    {
      "cell_type": "markdown",
      "metadata": {
        "tags": [],
        "id": "we-RX76zvZOJ"
      },
      "source": [
        "## 여러 신뢰 구간 방법 비교하기"
      ]
    },
    {
      "cell_type": "code",
      "execution_count": null,
      "metadata": {
        "id": "Ycwug3-cvZOJ",
        "outputId": "ed96b37c-78ed-4eee-8248-77eddbdda26a",
        "colab": {
          "base_uri": "https://localhost:8080/"
        }
      },
      "outputs": [
        {
          "output_type": "execute_result",
          "data": {
            "text/plain": [
              "dict_keys(['Method 1: Normal approximation', 'Method 2: Bootstrap, percentile', 'Method 3: Bootstrap test set', 'Method 4: Random seeds'])"
            ]
          },
          "metadata": {},
          "execution_count": 19
        }
      ],
      "source": [
        "results.keys()"
      ]
    },
    {
      "cell_type": "code",
      "execution_count": null,
      "metadata": {
        "id": "rs-JCSDHvZOJ",
        "outputId": "2dc79028-4633-41ed-f91e-d78056815147",
        "colab": {
          "base_uri": "https://localhost:8080/",
          "height": 307
        }
      },
      "outputs": [
        {
          "output_type": "display_data",
          "data": {
            "text/plain": [
              "<Figure size 700x300 with 1 Axes>"
            ],
            "image/png": "[encoded data removed]"
          },
          "metadata": {}
        }
      ],
      "source": [
        "labels = list(results.keys())\n",
        "\n",
        "means = np.array([results[k][\"Test accuracy\"] for k in labels])\n",
        "lower_error = np.array([results[k][\"Lower 95% CI\"] for k in labels])\n",
        "upper_error = np.array([results[k][\"Upper 95% CI\"] for k in labels])\n",
        "\n",
        "asymmetric_error = [means - lower_error, upper_error - means]\n",
        "\n",
        "\n",
        "fig, ax = plt.subplots(figsize=(7, 3))\n",
        "ax.errorbar(means, np.arange(len(means)), xerr=asymmetric_error, fmt=\"o\")\n",
        "ax.set_xlim([0.75, 1.0])\n",
        "ax.set_yticks(np.arange(len(means)))\n",
        "ax.set_yticklabels(labels)\n",
        "ax.set_xlabel(\"Prediction accuracy\")\n",
        "ax.set_title(\"95% confidence intervals\")\n",
        "\n",
        "plt.grid()\n",
        "plt.tight_layout()\n",
        "plt.show()"
      ]
    }
  ],
  "metadata": {
    "kernelspec": {
      "display_name": "Python 3 (ipykernel)",
      "language": "python",
      "name": "python3"
    },
    "language_info": {
      "codemirror_mode": {
        "name": "ipython",
        "version": 3
      },
      "file_extension": ".py",
      "mimetype": "text/x-python",
      "name": "python",
      "nbconvert_exporter": "python",
      "pygments_lexer": "ipython3",
      "version": "3.11.4"
    },
    "colab": {
      "provenance": [],
      "include_colab_link": true
    }
  },
  "nbformat": 4,
  "nbformat_minor": 0
}