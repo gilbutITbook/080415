{
  "cells": [
    {
      "cell_type": "markdown",
      "metadata": {
        "id": "view-in-github",
        "colab_type": "text"
      },
      "source": [
        "<a href=\"https://colab.research.google.com/github/rickiepark/MLQandAI/blob/main/supplementary/q25_confidence-intervals/2_four-methods-vs-true-value.ipynb\" target=\"_parent\"><img src=\"https://colab.research.google.com/assets/colab-badge.svg\" alt=\"Open In Colab\"/></a>"
      ]
    },
    {
      "cell_type": "markdown",
      "id": "59c0fbea-9eda-4477-be6c-32647cef1ec7",
      "metadata": {
        "id": "59c0fbea-9eda-4477-be6c-32647cef1ec7"
      },
      "source": [
        "# CI Simulation"
      ]
    },
    {
      "cell_type": "code",
      "execution_count": 1,
      "id": "06090a72-1365-43de-9c37-35c4c4e2f3c4",
      "metadata": {
        "id": "06090a72-1365-43de-9c37-35c4c4e2f3c4",
        "outputId": "37388f88-a9d8-47f5-9c17-8addcc8e8220",
        "colab": {
          "base_uri": "https://localhost:8080/"
        }
      },
      "outputs": [
        {
          "output_type": "stream",
          "name": "stdout",
          "text": [
            "\u001b[?25l   \u001b[90m━━━━━━━━━━━━━━━━━━━━━━━━━━━━━━━━━━━━━━━━\u001b[0m \u001b[32m0.0/1.6 MB\u001b[0m \u001b[31m?\u001b[0m eta \u001b[36m-:--:--\u001b[0m\r\u001b[2K   \u001b[91m━━━━━━━━━━━━━━\u001b[0m\u001b[90m╺\u001b[0m\u001b[90m━━━━━━━━━━━━━━━━━━━━━━━━━\u001b[0m \u001b[32m0.6/1.6 MB\u001b[0m \u001b[31m16.0 MB/s\u001b[0m eta \u001b[36m0:00:01\u001b[0m\r\u001b[2K   \u001b[91m━━━━━━━━━━━━━━━━━━━━━━━━━━━━━━━━━━━━━━━\u001b[0m\u001b[91m╸\u001b[0m \u001b[32m1.6/1.6 MB\u001b[0m \u001b[31m27.0 MB/s\u001b[0m eta \u001b[36m0:00:01\u001b[0m\r\u001b[2K   \u001b[90m━━━━━━━━━━━━━━━━━━━━━━━━━━━━━━━━━━━━━━━━\u001b[0m \u001b[32m1.6/1.6 MB\u001b[0m \u001b[31m16.9 MB/s\u001b[0m eta \u001b[36m0:00:00\u001b[0m\n",
            "\u001b[?25hAuthor: Sebastian Raschka\n",
            "\n",
            "Python implementation: CPython\n",
            "Python version       : 3.11.11\n",
            "IPython version      : 7.34.0\n",
            "\n",
            "numpy     : 1.26.4\n",
            "mlxtend   : 0.23.3\n",
            "matplotlib: 3.10.0\n",
            "sklearn   : 1.6.0\n",
            "\n"
          ]
        }
      ],
      "source": [
        "!pip install --quiet watermark\n",
        "\n",
        "%load_ext watermark\n",
        "%watermark -a 'Sebastian Raschka' -v -p numpy,mlxtend,matplotlib,sklearn"
      ]
    },
    {
      "cell_type": "markdown",
      "id": "12618aaa-7980-4ed3-8cd8-cd7ce3d3809a",
      "metadata": {
        "id": "12618aaa-7980-4ed3-8cd8-cd7ce3d3809a"
      },
      "source": [
        "- 이 노트북은 [1_four-methods](1_four-methods)의 보조 노트북으로 가상의 예제를 다룹니다.\n",
        "- 여기서는 실제 모델 정확도(일반화 정확도)가 신뢰 구간 안에 포함되는지 알아 보겠습니다.\n",
        "- 이를 위해 10,002,000개의 데이터 포인트로 구성된 분류용 합성 데이터셋을 만듭니다."
      ]
    },
    {
      "cell_type": "markdown",
      "id": "e8412450-153d-4788-89ed-0e5caa6e7b7b",
      "metadata": {
        "id": "e8412450-153d-4788-89ed-0e5caa6e7b7b"
      },
      "source": [
        "## 대규모 합성 훈련 데이터와 테스트 데이터"
      ]
    },
    {
      "cell_type": "code",
      "execution_count": 2,
      "id": "91d86525-404f-4c82-80b5-38eafc26955f",
      "metadata": {
        "id": "91d86525-404f-4c82-80b5-38eafc26955f"
      },
      "outputs": [],
      "source": [
        "from sklearn.datasets import make_classification\n",
        "\n",
        "X, y = make_classification(\n",
        "    n_samples=10_002_000,\n",
        "    n_features=12,\n",
        "    n_redundant=5,\n",
        "    n_classes=2,\n",
        "    random_state=123,\n",
        "    flip_y=0.25,\n",
        ")"
      ]
    },
    {
      "cell_type": "code",
      "execution_count": 3,
      "id": "fd6fb5cc-24d1-47bd-8682-f4fd25f1eda4",
      "metadata": {
        "id": "fd6fb5cc-24d1-47bd-8682-f4fd25f1eda4"
      },
      "outputs": [],
      "source": [
        "X_train = X[:1_000]\n",
        "y_train = y[:1_000]\n",
        "\n",
        "X_test = X[1_000:2_000]\n",
        "y_test = y[1_000:2_000]\n",
        "\n",
        "X_huge_test = X[2_000:]\n",
        "y_huge_test = y[2_000:]"
      ]
    },
    {
      "cell_type": "markdown",
      "id": "9c018df3-637b-41bd-b270-4935527fff94",
      "metadata": {
        "id": "9c018df3-637b-41bd-b270-4935527fff94"
      },
      "source": [
        "- 처음 1,000개의 데이터 포인트를 훈련에 사용하고, 두 번째 1,000개의 데이터 포인트는 테스트에 사용합니다. 남은 10,000,000개 데이터 포인트를 사용해 모델의 실제 성능을 계산합니다."
      ]
    },
    {
      "cell_type": "markdown",
      "id": "a391f1e1-d3ab-45fe-81ee-bf5a48600afd",
      "metadata": {
        "id": "a391f1e1-d3ab-45fe-81ee-bf5a48600afd"
      },
      "source": [
        "## 실제 일반화 성능"
      ]
    },
    {
      "cell_type": "code",
      "execution_count": 4,
      "id": "7ce712bf-e9ba-4764-a3af-e03e1261939b",
      "metadata": {
        "id": "7ce712bf-e9ba-4764-a3af-e03e1261939b",
        "outputId": "ca284273-1fc2-4c9e-9f59-20182617e877",
        "colab": {
          "base_uri": "https://localhost:8080/"
        }
      },
      "outputs": [
        {
          "output_type": "execute_result",
          "data": {
            "text/plain": [
              "0.7882329"
            ]
          },
          "metadata": {},
          "execution_count": 4
        }
      ],
      "source": [
        "from sklearn.neural_network import MLPClassifier\n",
        "\n",
        "\n",
        "clf = MLPClassifier(\n",
        "    hidden_layer_sizes=(10,),\n",
        "    activation=\"relu\",\n",
        "    learning_rate_init=0.01,\n",
        "    random_state=123,\n",
        "    solver=\"adam\",\n",
        "    max_iter=500\n",
        ")\n",
        "\n",
        "clf.fit(X_train, y_train)\n",
        "\n",
        "acc_test_true = clf.score(X_huge_test, y_huge_test)\n",
        "acc_test_true"
      ]
    },
    {
      "cell_type": "markdown",
      "id": "68a4eee6-2422-4b9d-9d89-a7ffef36d730",
      "metadata": {
        "id": "68a4eee6-2422-4b9d-9d89-a7ffef36d730"
      },
      "source": [
        "## 1) 테스트 세트 기반의 정규 근사 구간"
      ]
    },
    {
      "cell_type": "code",
      "execution_count": 5,
      "id": "98aad95f-e372-4766-9912-5828f2f83720",
      "metadata": {
        "id": "98aad95f-e372-4766-9912-5828f2f83720",
        "outputId": "54ff0af8-3b34-4c26-88cc-e7a44a464d9c",
        "colab": {
          "base_uri": "https://localhost:8080/"
        }
      },
      "outputs": [
        {
          "output_type": "stream",
          "name": "stdout",
          "text": [
            "0.7720698282384794 0.8219301717615207\n"
          ]
        }
      ],
      "source": [
        "import numpy as np\n",
        "import scipy.stats\n",
        "\n",
        "confidence = 0.95  # 원하는 신뢰 수준으로 바꾸세요.\n",
        "z_value = scipy.stats.norm.ppf((1 + confidence) / 2.0)\n",
        "\n",
        "\n",
        "clf.fit(X_train, y_train)\n",
        "\n",
        "acc_test = clf.score(X_test, y_test)\n",
        "ci_length = z_value * np.sqrt((acc_test * (1 - acc_test)) / y_test.shape[0])\n",
        "\n",
        "ci_lower = acc_test - ci_length\n",
        "ci_upper = acc_test + ci_length\n",
        "\n",
        "print(ci_lower, ci_upper)"
      ]
    },
    {
      "cell_type": "code",
      "execution_count": 6,
      "id": "9a7f37e8-2bf5-447f-be9c-9306c6881a60",
      "metadata": {
        "id": "9a7f37e8-2bf5-447f-be9c-9306c6881a60"
      },
      "outputs": [],
      "source": [
        "results = {\n",
        "    \"Method 1: Normal approximation\": {\n",
        "        \"Test accuracy\": acc_test,\n",
        "        \"Lower 95% CI\": ci_lower,\n",
        "        \"Upper 95% CI\": ci_upper,\n",
        "    }\n",
        "}"
      ]
    },
    {
      "cell_type": "markdown",
      "id": "93d20746-5386-45b1-96cb-7c8d43fc2aa6",
      "metadata": {
        "id": "93d20746-5386-45b1-96cb-7c8d43fc2aa6"
      },
      "source": [
        "## 2) 훈련 세트 부트스트래핑하기"
      ]
    },
    {
      "cell_type": "code",
      "execution_count": 7,
      "id": "4539dd53-3974-4978-9d6c-8bc9991b7b9a",
      "metadata": {
        "id": "4539dd53-3974-4978-9d6c-8bc9991b7b9a",
        "outputId": "e024e979-6790-42c7-aaf1-8d9050753d29",
        "colab": {
          "base_uri": "https://localhost:8080/"
        }
      },
      "outputs": [
        {
          "output_type": "execute_result",
          "data": {
            "text/plain": [
              "0.769659240981034"
            ]
          },
          "metadata": {},
          "execution_count": 7
        }
      ],
      "source": [
        "import numpy as np\n",
        "\n",
        "rng = np.random.RandomState(seed=12345)\n",
        "idx = np.arange(y_train.shape[0])\n",
        "\n",
        "bootstrap_train_accuracies = []\n",
        "bootstrap_rounds = 200\n",
        "\n",
        "\n",
        "for i in range(bootstrap_rounds):\n",
        "\n",
        "    train_idx = rng.choice(idx, size=idx.shape[0], replace=True)\n",
        "    valid_idx = np.setdiff1d(idx, train_idx, assume_unique=False)\n",
        "\n",
        "    boot_train_X, boot_train_y = X_train[train_idx], y_train[train_idx]\n",
        "    boot_valid_X, boot_valid_y = X_train[valid_idx], y_train[valid_idx]\n",
        "\n",
        "    clf.fit(boot_train_X, boot_train_y)\n",
        "    acc = clf.score(boot_valid_X, boot_valid_y)\n",
        "    bootstrap_train_accuracies.append(acc)\n",
        "\n",
        "bootstrap_train_mean = np.mean(bootstrap_train_accuracies)\n",
        "bootstrap_train_mean"
      ]
    },
    {
      "cell_type": "markdown",
      "id": "67a3827e-6b5a-49fe-bb82-6819d2f71dea",
      "metadata": {
        "id": "67a3827e-6b5a-49fe-bb82-6819d2f71dea"
      },
      "source": [
        "- 부트스트래핑 테스트 정확도($ \\text{ACC}_{\\text{boot}, j}$)와 샘플 평균($\\text{ACC}_{\\text{bootavg}}$)을 히스토그램으로 시각화합니다:"
      ]
    },
    {
      "cell_type": "markdown",
      "id": "116785aa-ced2-4931-8749-bc568be9f174",
      "metadata": {
        "id": "116785aa-ced2-4931-8749-bc568be9f174"
      },
      "source": [
        "#### 백분위 방법 사용하기"
      ]
    },
    {
      "cell_type": "code",
      "execution_count": 8,
      "id": "dffef535-c33a-4450-a014-91a36b984143",
      "metadata": {
        "id": "dffef535-c33a-4450-a014-91a36b984143",
        "outputId": "f48e2e3b-345d-4838-dafb-f8d3cbbd3fcb",
        "colab": {
          "base_uri": "https://localhost:8080/"
        }
      },
      "outputs": [
        {
          "output_type": "stream",
          "name": "stdout",
          "text": [
            "0.7280214285714285 0.8092909569699687\n"
          ]
        }
      ],
      "source": [
        "ci_lower = np.percentile(bootstrap_train_accuracies, 2.5)\n",
        "ci_upper = np.percentile(bootstrap_train_accuracies, 97.5)\n",
        "\n",
        "print(ci_lower, ci_upper)"
      ]
    },
    {
      "cell_type": "markdown",
      "id": "f083f9f3-baf6-46d1-a164-55af52ffe172",
      "metadata": {
        "id": "f083f9f3-baf6-46d1-a164-55af52ffe172"
      },
      "source": [
        "- Let's have a look how it looks like in the context of our"
      ]
    },
    {
      "cell_type": "code",
      "execution_count": 9,
      "id": "775e8291-79f4-4dfb-a5cb-229340d17c20",
      "metadata": {
        "id": "775e8291-79f4-4dfb-a5cb-229340d17c20"
      },
      "outputs": [],
      "source": [
        "results[\"Method 2: Bootstrap, percentile\"] = {\n",
        "    \"Test accuracy\": bootstrap_train_mean,\n",
        "    \"Lower 95% CI\": ci_lower,\n",
        "    \"Upper 95% CI\": ci_upper,\n",
        "}"
      ]
    },
    {
      "cell_type": "markdown",
      "id": "dd71a1de-ab21-482a-8618-bfca8eac0f75",
      "metadata": {
        "id": "dd71a1de-ab21-482a-8618-bfca8eac0f75"
      },
      "source": [
        "## 3) 테스트 세트 예측 부트스트래핑하기"
      ]
    },
    {
      "cell_type": "code",
      "execution_count": 10,
      "id": "2f8f89de-4b18-40bc-91bc-3159031681ee",
      "metadata": {
        "id": "2f8f89de-4b18-40bc-91bc-3159031681ee",
        "outputId": "fc875555-a27a-4a91-b94f-c86bda04ec9e",
        "colab": {
          "base_uri": "https://localhost:8080/"
        }
      },
      "outputs": [
        {
          "output_type": "execute_result",
          "data": {
            "text/plain": [
              "0.7963800000000001"
            ]
          },
          "metadata": {},
          "execution_count": 10
        }
      ],
      "source": [
        "clf.fit(X_train, y_train)\n",
        "\n",
        "predictions_test = clf.predict(X_test)\n",
        "acc_test = np.mean(predictions_test == y_test)\n",
        "\n",
        "rng = np.random.RandomState(seed=12345)\n",
        "idx = np.arange(y_test.shape[0])\n",
        "\n",
        "test_accuracies = []\n",
        "\n",
        "for i in range(200):\n",
        "\n",
        "    pred_idx = rng.choice(idx, size=idx.shape[0], replace=True)\n",
        "    acc_test_boot = np.mean(predictions_test[pred_idx] == y_test[pred_idx])\n",
        "    test_accuracies.append(acc_test_boot)\n",
        "\n",
        "bootstrap_train_mean = np.mean(test_accuracies)\n",
        "bootstrap_train_mean"
      ]
    },
    {
      "cell_type": "markdown",
      "id": "36320135-7ab7-4ec5-9583-6354f9e6f130",
      "metadata": {
        "id": "36320135-7ab7-4ec5-9583-6354f9e6f130"
      },
      "source": [
        "- 백분위 방법을 사용해 신뢰 구간을 얻을 수 있습니다::"
      ]
    },
    {
      "cell_type": "code",
      "execution_count": 11,
      "id": "a605c0b8-5a6a-4ee1-b77c-ad1224a26da4",
      "metadata": {
        "id": "a605c0b8-5a6a-4ee1-b77c-ad1224a26da4",
        "outputId": "39276658-bbf0-487e-d61b-d9aaf953a731",
        "colab": {
          "base_uri": "https://localhost:8080/"
        }
      },
      "outputs": [
        {
          "output_type": "stream",
          "name": "stdout",
          "text": [
            "0.768 0.825\n"
          ]
        }
      ],
      "source": [
        "ci_lower = np.percentile(test_accuracies, 2.5)\n",
        "ci_upper = np.percentile(test_accuracies, 97.5)\n",
        "\n",
        "print(ci_lower, ci_upper)"
      ]
    },
    {
      "cell_type": "code",
      "execution_count": 12,
      "id": "2f392400-0ccb-47af-9932-8131739a317f",
      "metadata": {
        "id": "2f392400-0ccb-47af-9932-8131739a317f"
      },
      "outputs": [],
      "source": [
        "results[\"Method 3: Bootstrap test set\"] = {\n",
        "    \"Test accuracy\": bootstrap_train_mean,\n",
        "    \"Lower 95% CI\": ci_lower,\n",
        "    \"Upper 95% CI\": ci_upper,\n",
        "}"
      ]
    },
    {
      "cell_type": "markdown",
      "id": "cb9ec28a-f43e-4f6c-a5b5-741deff5a49a",
      "metadata": {
        "id": "cb9ec28a-f43e-4f6c-a5b5-741deff5a49a"
      },
      "source": [
        "## 4) 다른 랜덤 시드로 모델을 재훈련하기"
      ]
    },
    {
      "cell_type": "code",
      "execution_count": 13,
      "id": "8cd8706e-5066-4ff9-bb87-23c7817a1993",
      "metadata": {
        "id": "8cd8706e-5066-4ff9-bb87-23c7817a1993",
        "outputId": "32ab08d4-27c3-48db-d4de-14847d7f85c1",
        "colab": {
          "base_uri": "https://localhost:8080/"
        }
      },
      "outputs": [
        {
          "output_type": "execute_result",
          "data": {
            "text/plain": [
              "0.7934"
            ]
          },
          "metadata": {},
          "execution_count": 13
        }
      ],
      "source": [
        "test_accuracies = []\n",
        "rounds = 5\n",
        "\n",
        "\n",
        "for i in range(rounds):\n",
        "\n",
        "    clf = MLPClassifier(\n",
        "        hidden_layer_sizes=(10,),\n",
        "        activation=\"relu\",\n",
        "        learning_rate_init=0.01,\n",
        "        random_state=i,  # 랜덤 시드만 수정합니다.\n",
        "        solver=\"adam\",\n",
        "        max_iter=500\n",
        ")\n",
        "\n",
        "    clf.fit(X_train, y_train)\n",
        "    acc = clf.score(X_test, y_test)\n",
        "    test_accuracies.append(acc)\n",
        "\n",
        "test_mean = np.mean(test_accuracies)\n",
        "test_mean"
      ]
    },
    {
      "cell_type": "code",
      "execution_count": 14,
      "id": "45635b69-acfa-4028-86cc-393d12f50e32",
      "metadata": {
        "id": "45635b69-acfa-4028-86cc-393d12f50e32",
        "outputId": "c80c9978-d34f-4081-df29-a0efb09065a0",
        "colab": {
          "base_uri": "https://localhost:8080/"
        }
      },
      "outputs": [
        {
          "output_type": "stream",
          "name": "stdout",
          "text": [
            "0.7838787766707844 0.8029212233292156\n"
          ]
        }
      ],
      "source": [
        "confidence = 0.95  # 원하는 신뢰 수준으로 바꾸세요.\n",
        "t_value = scipy.stats.t.ppf((1 + confidence) / 2.0, df=rounds - 1)\n",
        "\n",
        "sd = np.std(test_accuracies, ddof=1)\n",
        "se = sd / np.sqrt(rounds)\n",
        "\n",
        "ci_length = t_value * se\n",
        "\n",
        "ci_lower = test_mean - ci_length\n",
        "ci_upper = test_mean + ci_length\n",
        "\n",
        "print(ci_lower, ci_upper)"
      ]
    },
    {
      "cell_type": "code",
      "execution_count": 15,
      "id": "46661c99-4f4f-4dc1-88df-666d8b3aa8f6",
      "metadata": {
        "id": "46661c99-4f4f-4dc1-88df-666d8b3aa8f6"
      },
      "outputs": [],
      "source": [
        "results[\"Method 4: Random seeds\"] = {\n",
        "    \"Test accuracy\": test_mean,\n",
        "    \"Lower 95% CI\": ci_lower,\n",
        "    \"Upper 95% CI\": ci_upper,\n",
        "}"
      ]
    },
    {
      "cell_type": "markdown",
      "id": "cb4ec325-61b9-4862-acf4-0bfa523d228d",
      "metadata": {
        "id": "cb4ec325-61b9-4862-acf4-0bfa523d228d"
      },
      "source": [
        "## 여러 신뢰 구간 방법 비교하기\n"
      ]
    },
    {
      "cell_type": "code",
      "execution_count": 16,
      "id": "3be3ae62-a57d-4183-bcf4-b80593e1f7e2",
      "metadata": {
        "id": "3be3ae62-a57d-4183-bcf4-b80593e1f7e2",
        "outputId": "9ce92e9a-0c95-4754-f748-6ef70501509f",
        "colab": {
          "base_uri": "https://localhost:8080/",
          "height": 307
        }
      },
      "outputs": [
        {
          "output_type": "display_data",
          "data": {
            "text/plain": [
              "<Figure size 700x300 with 1 Axes>"
            ],
            "image/png": "[encoded data removed]"
          },
          "metadata": {}
        }
      ],
      "source": [
        "%matplotlib inline\n",
        "import matplotlib.pyplot as plt\n",
        "\n",
        "labels = list(results.keys())\n",
        "\n",
        "means = np.array([results[k][\"Test accuracy\"] for k in labels])\n",
        "lower_error = np.array([results[k][\"Lower 95% CI\"] for k in labels])\n",
        "upper_error = np.array([results[k][\"Upper 95% CI\"] for k in labels])\n",
        "\n",
        "asymmetric_error = [means - lower_error, upper_error - means]\n",
        "\n",
        "\n",
        "fig, ax = plt.subplots(figsize=(7, 3))\n",
        "ax.errorbar(means, np.arange(len(means)), xerr=asymmetric_error, fmt=\"o\")\n",
        "ax.set_xlim([0.7, 1.0])\n",
        "ax.set_yticks(np.arange(len(means)))\n",
        "ax.set_yticklabels(labels)\n",
        "ax.set_xlabel(\"Prediction accuracy\")\n",
        "ax.set_title(\"95% confidence intervals\")\n",
        "\n",
        "ax.vlines(acc_test_true, [0], 5, lw=1.5, color=\"red\", linestyle=\"-\", label=\"True value\")\n",
        "\n",
        "plt.grid()\n",
        "plt.tight_layout()\n",
        "plt.show()"
      ]
    }
  ],
  "metadata": {
    "kernelspec": {
      "display_name": "Python 3 (ipykernel)",
      "language": "python",
      "name": "python3"
    },
    "language_info": {
      "codemirror_mode": {
        "name": "ipython",
        "version": 3
      },
      "file_extension": ".py",
      "mimetype": "text/x-python",
      "name": "python",
      "nbconvert_exporter": "python",
      "pygments_lexer": "ipython3",
      "version": "3.11.4"
    },
    "colab": {
      "provenance": [],
      "include_colab_link": true
    }
  },
  "nbformat": 4,
  "nbformat_minor": 5
}