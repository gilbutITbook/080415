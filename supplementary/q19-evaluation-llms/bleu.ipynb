{
  "cells": [
    {
      "cell_type": "markdown",
      "metadata": {
        "id": "view-in-github",
        "colab_type": "text"
      },
      "source": [
        "<a href=\"https://colab.research.google.com/github/rickiepark/MLQandAI/blob/main/supplementary/q19-evaluation-llms/bleu.ipynb\" target=\"_parent\"><img src=\"https://colab.research.google.com/assets/colab-badge.svg\" alt=\"Open In Colab\"/></a>"
      ]
    },
    {
      "cell_type": "markdown",
      "id": "85b9cad9-14cc-4145-a71a-6fdfa7b9b044",
      "metadata": {
        "id": "85b9cad9-14cc-4145-a71a-6fdfa7b9b044"
      },
      "source": [
        "# 유니그램 기반 BLEU 점수"
      ]
    },
    {
      "cell_type": "code",
      "execution_count": 1,
      "id": "d152300f-00fd-4f31-bb2c-a776f1822a2e",
      "metadata": {
        "id": "d152300f-00fd-4f31-bb2c-a776f1822a2e"
      },
      "outputs": [],
      "source": [
        "original = \"Der schnelle braune Fuchs sprang ueber den faulen Hund\"\n",
        "\n",
        "reference =   \"The quick brown fox jumped over the lazy dog\"\n",
        "candidate_1 = \"The fast  brown fox leaped over the      dog\"\n",
        "candidate_2 = \"The swift brown fox jumped over the lazy dog\"\n",
        "candidate_3 = \"The swift tawny fox leaped over the indolent canine.\""
      ]
    },
    {
      "cell_type": "markdown",
      "id": "3677a7a3-d4d1-49a0-ab90-d02b526cde04",
      "metadata": {
        "id": "3677a7a3-d4d1-49a0-ab90-d02b526cde04"
      },
      "source": [
        "### NLTK"
      ]
    },
    {
      "cell_type": "code",
      "execution_count": 2,
      "id": "6a159771-e2ee-4adc-b53d-d349d69a6a63",
      "metadata": {
        "id": "6a159771-e2ee-4adc-b53d-d349d69a6a63",
        "outputId": "b92fb3c8-3d08-4674-839c-fbad27b0c102",
        "colab": {
          "base_uri": "https://localhost:8080/"
        }
      },
      "outputs": [
        {
          "output_type": "stream",
          "name": "stdout",
          "text": [
            "Requirement already satisfied: nltk in /usr/local/lib/python3.11/dist-packages (3.9.1)\n",
            "Requirement already satisfied: click in /usr/local/lib/python3.11/dist-packages (from nltk) (8.1.8)\n",
            "Requirement already satisfied: joblib in /usr/local/lib/python3.11/dist-packages (from nltk) (1.4.2)\n",
            "Requirement already satisfied: regex>=2021.8.3 in /usr/local/lib/python3.11/dist-packages (from nltk) (2024.11.6)\n",
            "Requirement already satisfied: tqdm in /usr/local/lib/python3.11/dist-packages (from nltk) (4.67.1)\n"
          ]
        }
      ],
      "source": [
        "!pip install nltk"
      ]
    },
    {
      "cell_type": "code",
      "execution_count": 3,
      "id": "cb45c369-e04f-43ea-a31f-e2380efa3e79",
      "metadata": {
        "id": "cb45c369-e04f-43ea-a31f-e2380efa3e79",
        "outputId": "b0730cef-2eeb-4aae-fcdd-23b71ba4208f",
        "colab": {
          "base_uri": "https://localhost:8080/"
        }
      },
      "outputs": [
        {
          "output_type": "stream",
          "name": "stdout",
          "text": [
            "샘플 1에 대한 BLEU 점수: 0.66\n",
            "샘플 2에 대한 BLEU 점수: 0.89\n",
            "샘플 3에 대한 BLEU 점수: 0.44\n"
          ]
        }
      ],
      "source": [
        "from nltk.translate.bleu_score import sentence_bleu\n",
        "\n",
        "bleu_nltk_1 = sentence_bleu([reference.split()], candidate_1.split(), weights=[1.])\n",
        "bleu_nltk_2 = sentence_bleu([reference.split()], candidate_2.split(), weights=[1.])\n",
        "bleu_nltk_3 = sentence_bleu([reference.split()], candidate_3.split(), weights=[1.])\n",
        "\n",
        "print(f\"샘플 1에 대한 BLEU 점수: {bleu_nltk_1:.2f}\")\n",
        "print(f\"샘플 2에 대한 BLEU 점수: {bleu_nltk_2:.2f}\")\n",
        "print(f\"샘플 3에 대한 BLEU 점수: {bleu_nltk_3:.2f}\")"
      ]
    },
    {
      "cell_type": "markdown",
      "id": "d89def98-71e9-4ee4-96ac-017dd9bf2a28",
      "metadata": {
        "id": "d89def98-71e9-4ee4-96ac-017dd9bf2a28"
      },
      "source": [
        "### TorchMetrics"
      ]
    },
    {
      "cell_type": "code",
      "source": [
        "!pip install torchmetrics"
      ],
      "metadata": {
        "id": "A8_w2JqhWiIH",
        "outputId": "0144bbe8-73ad-4987-888d-78dd82f76c4b",
        "colab": {
          "base_uri": "https://localhost:8080/"
        }
      },
      "id": "A8_w2JqhWiIH",
      "execution_count": 4,
      "outputs": [
        {
          "output_type": "stream",
          "name": "stdout",
          "text": [
            "Requirement already satisfied: torchmetrics in /usr/local/lib/python3.11/dist-packages (1.6.1)\n",
            "Requirement already satisfied: numpy>1.20.0 in /usr/local/lib/python3.11/dist-packages (from torchmetrics) (1.26.4)\n",
            "Requirement already satisfied: packaging>17.1 in /usr/local/lib/python3.11/dist-packages (from torchmetrics) (24.2)\n",
            "Requirement already satisfied: torch>=2.0.0 in /usr/local/lib/python3.11/dist-packages (from torchmetrics) (2.5.1+cu121)\n",
            "Requirement already satisfied: lightning-utilities>=0.8.0 in /usr/local/lib/python3.11/dist-packages (from torchmetrics) (0.11.9)\n",
            "Requirement already satisfied: setuptools in /usr/local/lib/python3.11/dist-packages (from lightning-utilities>=0.8.0->torchmetrics) (75.1.0)\n",
            "Requirement already satisfied: typing-extensions in /usr/local/lib/python3.11/dist-packages (from lightning-utilities>=0.8.0->torchmetrics) (4.12.2)\n",
            "Requirement already satisfied: filelock in /usr/local/lib/python3.11/dist-packages (from torch>=2.0.0->torchmetrics) (3.16.1)\n",
            "Requirement already satisfied: networkx in /usr/local/lib/python3.11/dist-packages (from torch>=2.0.0->torchmetrics) (3.4.2)\n",
            "Requirement already satisfied: jinja2 in /usr/local/lib/python3.11/dist-packages (from torch>=2.0.0->torchmetrics) (3.1.5)\n",
            "Requirement already satisfied: fsspec in /usr/local/lib/python3.11/dist-packages (from torch>=2.0.0->torchmetrics) (2024.10.0)\n",
            "Requirement already satisfied: nvidia-cuda-nvrtc-cu12==12.1.105 in /usr/local/lib/python3.11/dist-packages (from torch>=2.0.0->torchmetrics) (12.1.105)\n",
            "Requirement already satisfied: nvidia-cuda-runtime-cu12==12.1.105 in /usr/local/lib/python3.11/dist-packages (from torch>=2.0.0->torchmetrics) (12.1.105)\n",
            "Requirement already satisfied: nvidia-cuda-cupti-cu12==12.1.105 in /usr/local/lib/python3.11/dist-packages (from torch>=2.0.0->torchmetrics) (12.1.105)\n",
            "Requirement already satisfied: nvidia-cudnn-cu12==9.1.0.70 in /usr/local/lib/python3.11/dist-packages (from torch>=2.0.0->torchmetrics) (9.1.0.70)\n",
            "Requirement already satisfied: nvidia-cublas-cu12==12.1.3.1 in /usr/local/lib/python3.11/dist-packages (from torch>=2.0.0->torchmetrics) (12.1.3.1)\n",
            "Requirement already satisfied: nvidia-cufft-cu12==11.0.2.54 in /usr/local/lib/python3.11/dist-packages (from torch>=2.0.0->torchmetrics) (11.0.2.54)\n",
            "Requirement already satisfied: nvidia-curand-cu12==10.3.2.106 in /usr/local/lib/python3.11/dist-packages (from torch>=2.0.0->torchmetrics) (10.3.2.106)\n",
            "Requirement already satisfied: nvidia-cusolver-cu12==11.4.5.107 in /usr/local/lib/python3.11/dist-packages (from torch>=2.0.0->torchmetrics) (11.4.5.107)\n",
            "Requirement already satisfied: nvidia-cusparse-cu12==12.1.0.106 in /usr/local/lib/python3.11/dist-packages (from torch>=2.0.0->torchmetrics) (12.1.0.106)\n",
            "Requirement already satisfied: nvidia-nccl-cu12==2.21.5 in /usr/local/lib/python3.11/dist-packages (from torch>=2.0.0->torchmetrics) (2.21.5)\n",
            "Requirement already satisfied: nvidia-nvtx-cu12==12.1.105 in /usr/local/lib/python3.11/dist-packages (from torch>=2.0.0->torchmetrics) (12.1.105)\n",
            "Requirement already satisfied: triton==3.1.0 in /usr/local/lib/python3.11/dist-packages (from torch>=2.0.0->torchmetrics) (3.1.0)\n",
            "Requirement already satisfied: sympy==1.13.1 in /usr/local/lib/python3.11/dist-packages (from torch>=2.0.0->torchmetrics) (1.13.1)\n",
            "Requirement already satisfied: nvidia-nvjitlink-cu12 in /usr/local/lib/python3.11/dist-packages (from nvidia-cusolver-cu12==11.4.5.107->torch>=2.0.0->torchmetrics) (12.6.85)\n",
            "Requirement already satisfied: mpmath<1.4,>=1.1.0 in /usr/local/lib/python3.11/dist-packages (from sympy==1.13.1->torch>=2.0.0->torchmetrics) (1.3.0)\n",
            "Requirement already satisfied: MarkupSafe>=2.0 in /usr/local/lib/python3.11/dist-packages (from jinja2->torch>=2.0.0->torchmetrics) (3.0.2)\n"
          ]
        }
      ]
    },
    {
      "cell_type": "code",
      "execution_count": 5,
      "id": "01198d15-c16c-4aa6-a8ed-65705ab743cf",
      "metadata": {
        "id": "01198d15-c16c-4aa6-a8ed-65705ab743cf",
        "outputId": "0f1ca249-8ddd-4043-877b-a7c95e7005d6",
        "colab": {
          "base_uri": "https://localhost:8080/"
        }
      },
      "outputs": [
        {
          "output_type": "stream",
          "name": "stdout",
          "text": [
            "샘플 1에 대한 BLEU 점수: 0.66\n",
            "샘플 2에 대한 BLEU 점수: 0.89\n",
            "샘플 3에 대한 BLEU 점수: 0.44\n"
          ]
        }
      ],
      "source": [
        "from torchmetrics.text import BLEUScore\n",
        "\n",
        "bleu = BLEUScore(n_gram=1)\n",
        "\n",
        "# BLEU 점수를 계산합니다.\n",
        "bleu_tm_1 = bleu(target=[[reference]], preds=[candidate_1])\n",
        "bleu_tm_2 = bleu(target=[[reference]], preds=[candidate_2])\n",
        "bleu_tm_3 = bleu(target=[[reference]], preds=[candidate_3])\n",
        "\n",
        "print(f\"샘플 1에 대한 BLEU 점수: {bleu_tm_1:.2f}\")\n",
        "print(f\"샘플 2에 대한 BLEU 점수: {bleu_tm_2:.2f}\")\n",
        "print(f\"샘플 3에 대한 BLEU 점수: {bleu_tm_3:.2f}\")"
      ]
    },
    {
      "cell_type": "markdown",
      "id": "2fe6a608-168a-4f7c-87a0-d82b9eac21ac",
      "metadata": {
        "id": "2fe6a608-168a-4f7c-87a0-d82b9eac21ac"
      },
      "source": [
        "### 직접 구현"
      ]
    },
    {
      "cell_type": "code",
      "execution_count": 6,
      "id": "66075150-bb85-465f-945e-3cc008de7efd",
      "metadata": {
        "id": "66075150-bb85-465f-945e-3cc008de7efd",
        "outputId": "b8a486e4-84e3-4780-aae9-c4d640f1c1a4",
        "colab": {
          "base_uri": "https://localhost:8080/"
        }
      },
      "outputs": [
        {
          "output_type": "stream",
          "name": "stdout",
          "text": [
            "샘플 1에 대한 BLEU 점수: 0.66\n",
            "샘플 2에 대한 BLEU 점수: 0.89\n",
            "샘플 3에 대한 BLEU 점수: 0.44\n"
          ]
        }
      ],
      "source": [
        "import math\n",
        "from collections import Counter\n",
        "\n",
        "def ngrams(sentence, n):\n",
        "    return [tuple(sentence[i:i+n]) for i in range(len(sentence)-n+1)]\n",
        "\n",
        "def modified_precision(reference, candidate, n):\n",
        "    ref_ngrams = Counter(ngrams(reference, n))\n",
        "    cand_ngrams = Counter(ngrams(candidate, n))\n",
        "\n",
        "    count_clip = sum(min(cand_ngrams[ng], ref_ngrams[ng]) for ng in cand_ngrams)\n",
        "    count_total = sum(cand_ngrams.values())\n",
        "\n",
        "    return count_clip / count_total if count_total > 0 else 0\n",
        "\n",
        "def brevity_penalty(reference, candidate):\n",
        "    ref_len = len(reference)\n",
        "    cand_len = len(candidate)\n",
        "\n",
        "    if cand_len > ref_len:\n",
        "        return 1\n",
        "    elif cand_len == 0:\n",
        "        return 0\n",
        "    else:\n",
        "        return math.exp(1 - ref_len / cand_len)\n",
        "\n",
        "def bleu_score_unigram(reference, candidate):\n",
        "    bp = brevity_penalty(reference, candidate)\n",
        "    precision = modified_precision(reference, candidate, n=1)\n",
        "\n",
        "    return bp * precision\n",
        "\n",
        "\n",
        "bleu_scratch_1 = bleu_score_unigram(reference=reference.split(), candidate=candidate_1.split())\n",
        "bleu_scratch_2 = bleu_score_unigram(reference=reference.split(), candidate=candidate_2.split())\n",
        "bleu_scratch_3 = bleu_score_unigram(reference=reference.split(), candidate=candidate_3.split())\n",
        "\n",
        "print(f\"샘플 1에 대한 BLEU 점수: {bleu_scratch_1:.2f}\")\n",
        "print(f\"샘플 2에 대한 BLEU 점수: {bleu_scratch_2:.2f}\")\n",
        "print(f\"샘플 3에 대한 BLEU 점수: {bleu_scratch_3:.2f}\")"
      ]
    },
    {
      "cell_type": "markdown",
      "id": "b7b3782e-704e-40aa-8dee-062282ba1e37",
      "metadata": {
        "id": "b7b3782e-704e-40aa-8dee-062282ba1e37"
      },
      "source": [
        "# 4-그램 기반 BLEU 점수 (기본 BLEU)"
      ]
    },
    {
      "cell_type": "code",
      "execution_count": 7,
      "id": "cf2bb62a-e1fd-4d5b-8d1d-3beadb72395b",
      "metadata": {
        "id": "cf2bb62a-e1fd-4d5b-8d1d-3beadb72395b"
      },
      "outputs": [],
      "source": [
        "# 샘플 1\n",
        "candidate_1 = \"The quick brown dog jumps over the lazy fox\"\n",
        "references_1 = [\n",
        "    \"The quick brown fox jumps over the lazy dog\",\n",
        "    \"The fast brown fox leaps over the lazy dog\",\n",
        "]\n",
        "\n",
        "# 샘플 2\n",
        "candidate_2 = \"The small red car drives quickly down the road\"\n",
        "references_2 = [\n",
        "    \"The small red car races quickly along the road\",\n",
        "    \"A small red car speeds rapidly down the avenue\",\n",
        "]"
      ]
    },
    {
      "cell_type": "markdown",
      "id": "288de8e8-a79a-4b8c-9822-be523a2bcbd3",
      "metadata": {
        "id": "288de8e8-a79a-4b8c-9822-be523a2bcbd3"
      },
      "source": [
        "## NLTK"
      ]
    },
    {
      "cell_type": "code",
      "execution_count": 8,
      "id": "2206ae02-71b4-44f8-8c9c-d939d1239e78",
      "metadata": {
        "id": "2206ae02-71b4-44f8-8c9c-d939d1239e78",
        "outputId": "5cf56b11-00b7-4215-da0e-0048c781c9b3",
        "colab": {
          "base_uri": "https://localhost:8080/"
        }
      },
      "outputs": [
        {
          "output_type": "stream",
          "name": "stdout",
          "text": [
            "샘플 1에 대한 BLEU 점수: 0.46\n",
            "샘플 2에 대한 BLEU 점수: 0.40\n"
          ]
        }
      ],
      "source": [
        "from nltk.translate.bleu_score import sentence_bleu\n",
        "\n",
        "bleu_nltk_1 = sentence_bleu([r.split() for r in references_1], candidate_1.split())\n",
        "bleu_nltk_2 = sentence_bleu([r.split() for r in references_2], candidate_2.split())\n",
        "\n",
        "print(f\"샘플 1에 대한 BLEU 점수: {bleu_nltk_1:.2f}\")\n",
        "print(f\"샘플 2에 대한 BLEU 점수: {bleu_nltk_2:.2f}\")"
      ]
    },
    {
      "cell_type": "markdown",
      "id": "3d06ea55-af4a-4a47-bb67-4ed43f909b0b",
      "metadata": {
        "id": "3d06ea55-af4a-4a47-bb67-4ed43f909b0b"
      },
      "source": [
        "## TorchMetrics"
      ]
    },
    {
      "cell_type": "code",
      "execution_count": 9,
      "id": "363b3809-8745-4937-8452-9e3c67c95d27",
      "metadata": {
        "id": "363b3809-8745-4937-8452-9e3c67c95d27",
        "outputId": "4151e686-42ce-44be-8aa6-8fc3f754d815",
        "colab": {
          "base_uri": "https://localhost:8080/"
        }
      },
      "outputs": [
        {
          "output_type": "stream",
          "name": "stdout",
          "text": [
            "샘플 1에 대한 BLEU 점수: 0.46\n",
            "샘플 2에 대한 BLEU 점수: 0.40\n"
          ]
        }
      ],
      "source": [
        "from torchmetrics.text import BLEUScore\n",
        "\n",
        "bleu = BLEUScore(n_gram=4)\n",
        "\n",
        "# BLEU 점수를 계산합니다.\n",
        "bleu_tm_1 = bleu(target=[references_1], preds=[candidate_1])\n",
        "bleu_tm_2 = bleu(target=[references_2], preds=[candidate_2])\n",
        "\n",
        "print(f\"샘플 1에 대한 BLEU 점수: {bleu_tm_1:.2f}\")\n",
        "print(f\"샘플 2에 대한 BLEU 점수: {bleu_tm_2:.2f}\")"
      ]
    },
    {
      "cell_type": "markdown",
      "id": "3fd1a273-3f82-43a9-8cd8-e56db1df1f6f",
      "metadata": {
        "id": "3fd1a273-3f82-43a9-8cd8-e56db1df1f6f"
      },
      "source": [
        "## 직접 구현"
      ]
    },
    {
      "cell_type": "code",
      "execution_count": 10,
      "id": "910e0742-68a4-452b-94c4-09eec1daf680",
      "metadata": {
        "id": "910e0742-68a4-452b-94c4-09eec1daf680",
        "outputId": "25bfb806-fd34-4ecd-b3e8-91a637b3f347",
        "colab": {
          "base_uri": "https://localhost:8080/"
        }
      },
      "outputs": [
        {
          "output_type": "stream",
          "name": "stdout",
          "text": [
            "샘플 1에 대한 BLEU 점수: 0.46\n",
            "샘플 2에 대한 BLEU 점수: 0.40\n"
          ]
        }
      ],
      "source": [
        "import math\n",
        "from collections import Counter\n",
        "from fractions import Fraction\n",
        "\n",
        "def tokenize(sentence):\n",
        "    return sentence.lower().split()\n",
        "\n",
        "def ngrams(tokens, n):\n",
        "    return [tuple(tokens[i:i+n]) for i in range(len(tokens)-n+1)]\n",
        "\n",
        "def modified_precision(candidate, references, n):\n",
        "    candidate_ngrams = Counter(ngrams(candidate, n))\n",
        "    max_reference_counts = Counter()\n",
        "\n",
        "    for reference in references:\n",
        "        reference_ngrams = Counter(ngrams(reference, n))\n",
        "        for ngram in candidate_ngrams:\n",
        "            max_reference_counts[ngram] = max(max_reference_counts[ngram], reference_ngrams[ngram])\n",
        "\n",
        "    clipped_counts = {\n",
        "        ngram: min(count, max_reference_counts[ngram])\n",
        "        for ngram, count in candidate_ngrams.items()\n",
        "    }\n",
        "\n",
        "    numerator = sum(clipped_counts.values())\n",
        "    denominator = sum(candidate_ngrams.values())\n",
        "\n",
        "    if denominator == 0:\n",
        "        return 0\n",
        "    return Fraction(numerator, denominator)\n",
        "\n",
        "def closest_reference_length(candidate, references):\n",
        "    ref_lens = [len(reference) for reference in references]\n",
        "    candidate_len = len(candidate)\n",
        "    closest_ref_len = min(ref_lens, key=lambda ref_len: (abs(ref_len - candidate_len), ref_len))\n",
        "    return closest_ref_len\n",
        "\n",
        "def brevity_penalty(candidate, references):\n",
        "    candidate_length = len(candidate)\n",
        "    closest_ref_len = closest_reference_length(candidate, references)\n",
        "\n",
        "    if candidate_length > closest_ref_len:\n",
        "        return 1\n",
        "    else:\n",
        "        return math.exp(1 - closest_ref_len / candidate_length)\n",
        "\n",
        "def sentence_bleu_scratch(candidate, references, weights=(0.25, 0.25, 0.25, 0.25)):\n",
        "    candidate_tokens = tokenize(candidate)\n",
        "    reference_tokens = [tokenize(reference) for reference in references]\n",
        "\n",
        "    precisions = [\n",
        "        modified_precision(candidate_tokens, reference_tokens, n+1)\n",
        "        for n in range(len(weights))\n",
        "    ]\n",
        "\n",
        "    if all(p == 0 for p in precisions):\n",
        "        return 0\n",
        "\n",
        "    precision_product = math.exp(\n",
        "        sum(w * math.log(float(p)) for w, p in zip(weights, precisions) if p != 0)\n",
        "    )\n",
        "    bp = brevity_penalty(candidate_tokens, reference_tokens)\n",
        "    bleu = bp * precision_product\n",
        "\n",
        "    return min(bleu, 1)  # Ensure the BLEU score is between 0 and 1\n",
        "\n",
        "\n",
        "bleu_score_scratch_1 = sentence_bleu_scratch(candidate_1, references_1)\n",
        "bleu_score_scratch_2 = sentence_bleu_scratch(candidate_2, references_2)\n",
        "\n",
        "print(f\"샘플 1에 대한 BLEU 점수: {bleu_score_scratch_1:.2f}\")\n",
        "print(f\"샘플 2에 대한 BLEU 점수: {bleu_score_scratch_2:.2f}\")"
      ]
    }
  ],
  "metadata": {
    "kernelspec": {
      "display_name": "Python 3 (ipykernel)",
      "language": "python",
      "name": "python3"
    },
    "language_info": {
      "codemirror_mode": {
        "name": "ipython",
        "version": 3
      },
      "file_extension": ".py",
      "mimetype": "text/x-python",
      "name": "python",
      "nbconvert_exporter": "python",
      "pygments_lexer": "ipython3",
      "version": "3.10.6"
    },
    "colab": {
      "provenance": [],
      "include_colab_link": true
    }
  },
  "nbformat": 4,
  "nbformat_minor": 5
}