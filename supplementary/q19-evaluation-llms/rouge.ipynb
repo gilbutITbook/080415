{
  "cells": [
    {
      "cell_type": "markdown",
      "metadata": {
        "id": "view-in-github",
        "colab_type": "text"
      },
      "source": [
        "<a href=\"https://colab.research.google.com/github/rickiepark/MLQandAI/blob/main/supplementary/q19-evaluation-llms/rouge.ipynb\" target=\"_parent\"><img src=\"https://colab.research.google.com/assets/colab-badge.svg\" alt=\"Open In Colab\"/></a>"
      ]
    },
    {
      "cell_type": "markdown",
      "id": "85b9cad9-14cc-4145-a71a-6fdfa7b9b044",
      "metadata": {
        "id": "85b9cad9-14cc-4145-a71a-6fdfa7b9b044"
      },
      "source": [
        "# ROUGE-1 (유니그램 ROUGE)"
      ]
    },
    {
      "cell_type": "code",
      "execution_count": 1,
      "id": "d152300f-00fd-4f31-bb2c-a776f1822a2e",
      "metadata": {
        "id": "d152300f-00fd-4f31-bb2c-a776f1822a2e"
      },
      "outputs": [],
      "source": [
        "reference = \"The quick brown fox jumps over the lazy dog\"\n",
        "candidate = \"The fox jumps over the dog\""
      ]
    },
    {
      "cell_type": "markdown",
      "id": "3677a7a3-d4d1-49a0-ab90-d02b526cde04",
      "metadata": {
        "id": "3677a7a3-d4d1-49a0-ab90-d02b526cde04"
      },
      "source": [
        "### `rouge` 라이브러리"
      ]
    },
    {
      "cell_type": "code",
      "execution_count": 2,
      "id": "6a159771-e2ee-4adc-b53d-d349d69a6a63",
      "metadata": {
        "id": "6a159771-e2ee-4adc-b53d-d349d69a6a63",
        "outputId": "2edf5f54-ce0d-4097-9fd8-b40c71a15a16",
        "colab": {
          "base_uri": "https://localhost:8080/"
        }
      },
      "outputs": [
        {
          "output_type": "stream",
          "name": "stdout",
          "text": [
            "Collecting rouge\n",
            "  Downloading rouge-1.0.1-py3-none-any.whl.metadata (4.1 kB)\n",
            "Requirement already satisfied: six in /usr/local/lib/python3.11/dist-packages (from rouge) (1.17.0)\n",
            "Downloading rouge-1.0.1-py3-none-any.whl (13 kB)\n",
            "Installing collected packages: rouge\n",
            "Successfully installed rouge-1.0.1\n"
          ]
        }
      ],
      "source": [
        "!pip install rouge"
      ]
    },
    {
      "cell_type": "code",
      "execution_count": 3,
      "id": "cb45c369-e04f-43ea-a31f-e2380efa3e79",
      "metadata": {
        "id": "cb45c369-e04f-43ea-a31f-e2380efa3e79",
        "outputId": "2db9ac6a-10eb-4f7e-f8fb-d0f994cb13fe",
        "colab": {
          "base_uri": "https://localhost:8080/"
        }
      },
      "outputs": [
        {
          "output_type": "stream",
          "name": "stdout",
          "text": [
            "ROUGE-1 재현율: 0.67\n",
            "ROUGE-1 정밀도: 1.00\n",
            "ROUGE-1 F1: 0.80\n"
          ]
        }
      ],
      "source": [
        "from rouge import Rouge\n",
        "\n",
        "rouge = Rouge()\n",
        "\n",
        "scores = rouge.get_scores(candidate, reference, avg=True)\n",
        "\n",
        "print(f\"ROUGE-1 재현율: {scores['rouge-1']['r']:.2f}\")\n",
        "print(f\"ROUGE-1 정밀도: {scores['rouge-1']['p']:.2f}\")\n",
        "print(f\"ROUGE-1 F1: {scores['rouge-1']['f']:.2f}\")"
      ]
    },
    {
      "cell_type": "markdown",
      "id": "d89def98-71e9-4ee4-96ac-017dd9bf2a28",
      "metadata": {
        "id": "d89def98-71e9-4ee4-96ac-017dd9bf2a28"
      },
      "source": [
        "### TorchMetrics"
      ]
    },
    {
      "cell_type": "code",
      "source": [
        "!pip install torchmetrics"
      ],
      "metadata": {
        "id": "DFhfeQ-hlhTk",
        "outputId": "cb055023-5a57-4d6a-a767-d122dab66f46",
        "colab": {
          "base_uri": "https://localhost:8080/"
        }
      },
      "id": "DFhfeQ-hlhTk",
      "execution_count": 5,
      "outputs": [
        {
          "output_type": "stream",
          "name": "stdout",
          "text": [
            "Collecting torchmetrics\n",
            "  Downloading torchmetrics-1.6.1-py3-none-any.whl.metadata (21 kB)\n",
            "Requirement already satisfied: numpy>1.20.0 in /usr/local/lib/python3.11/dist-packages (from torchmetrics) (1.26.4)\n",
            "Requirement already satisfied: packaging>17.1 in /usr/local/lib/python3.11/dist-packages (from torchmetrics) (24.2)\n",
            "Requirement already satisfied: torch>=2.0.0 in /usr/local/lib/python3.11/dist-packages (from torchmetrics) (2.5.1+cu121)\n",
            "Collecting lightning-utilities>=0.8.0 (from torchmetrics)\n",
            "  Downloading lightning_utilities-0.11.9-py3-none-any.whl.metadata (5.2 kB)\n",
            "Requirement already satisfied: setuptools in /usr/local/lib/python3.11/dist-packages (from lightning-utilities>=0.8.0->torchmetrics) (75.1.0)\n",
            "Requirement already satisfied: typing-extensions in /usr/local/lib/python3.11/dist-packages (from lightning-utilities>=0.8.0->torchmetrics) (4.12.2)\n",
            "Requirement already satisfied: filelock in /usr/local/lib/python3.11/dist-packages (from torch>=2.0.0->torchmetrics) (3.16.1)\n",
            "Requirement already satisfied: networkx in /usr/local/lib/python3.11/dist-packages (from torch>=2.0.0->torchmetrics) (3.4.2)\n",
            "Requirement already satisfied: jinja2 in /usr/local/lib/python3.11/dist-packages (from torch>=2.0.0->torchmetrics) (3.1.5)\n",
            "Requirement already satisfied: fsspec in /usr/local/lib/python3.11/dist-packages (from torch>=2.0.0->torchmetrics) (2024.10.0)\n",
            "Requirement already satisfied: nvidia-cuda-nvrtc-cu12==12.1.105 in /usr/local/lib/python3.11/dist-packages (from torch>=2.0.0->torchmetrics) (12.1.105)\n",
            "Requirement already satisfied: nvidia-cuda-runtime-cu12==12.1.105 in /usr/local/lib/python3.11/dist-packages (from torch>=2.0.0->torchmetrics) (12.1.105)\n",
            "Requirement already satisfied: nvidia-cuda-cupti-cu12==12.1.105 in /usr/local/lib/python3.11/dist-packages (from torch>=2.0.0->torchmetrics) (12.1.105)\n",
            "Requirement already satisfied: nvidia-cudnn-cu12==9.1.0.70 in /usr/local/lib/python3.11/dist-packages (from torch>=2.0.0->torchmetrics) (9.1.0.70)\n",
            "Requirement already satisfied: nvidia-cublas-cu12==12.1.3.1 in /usr/local/lib/python3.11/dist-packages (from torch>=2.0.0->torchmetrics) (12.1.3.1)\n",
            "Requirement already satisfied: nvidia-cufft-cu12==11.0.2.54 in /usr/local/lib/python3.11/dist-packages (from torch>=2.0.0->torchmetrics) (11.0.2.54)\n",
            "Requirement already satisfied: nvidia-curand-cu12==10.3.2.106 in /usr/local/lib/python3.11/dist-packages (from torch>=2.0.0->torchmetrics) (10.3.2.106)\n",
            "Requirement already satisfied: nvidia-cusolver-cu12==11.4.5.107 in /usr/local/lib/python3.11/dist-packages (from torch>=2.0.0->torchmetrics) (11.4.5.107)\n",
            "Requirement already satisfied: nvidia-cusparse-cu12==12.1.0.106 in /usr/local/lib/python3.11/dist-packages (from torch>=2.0.0->torchmetrics) (12.1.0.106)\n",
            "Requirement already satisfied: nvidia-nccl-cu12==2.21.5 in /usr/local/lib/python3.11/dist-packages (from torch>=2.0.0->torchmetrics) (2.21.5)\n",
            "Requirement already satisfied: nvidia-nvtx-cu12==12.1.105 in /usr/local/lib/python3.11/dist-packages (from torch>=2.0.0->torchmetrics) (12.1.105)\n",
            "Requirement already satisfied: triton==3.1.0 in /usr/local/lib/python3.11/dist-packages (from torch>=2.0.0->torchmetrics) (3.1.0)\n",
            "Requirement already satisfied: sympy==1.13.1 in /usr/local/lib/python3.11/dist-packages (from torch>=2.0.0->torchmetrics) (1.13.1)\n",
            "Requirement already satisfied: nvidia-nvjitlink-cu12 in /usr/local/lib/python3.11/dist-packages (from nvidia-cusolver-cu12==11.4.5.107->torch>=2.0.0->torchmetrics) (12.6.85)\n",
            "Requirement already satisfied: mpmath<1.4,>=1.1.0 in /usr/local/lib/python3.11/dist-packages (from sympy==1.13.1->torch>=2.0.0->torchmetrics) (1.3.0)\n",
            "Requirement already satisfied: MarkupSafe>=2.0 in /usr/local/lib/python3.11/dist-packages (from jinja2->torch>=2.0.0->torchmetrics) (3.0.2)\n",
            "Downloading torchmetrics-1.6.1-py3-none-any.whl (927 kB)\n",
            "\u001b[2K   \u001b[90m━━━━━━━━━━━━━━━━━━━━━━━━━━━━━━━━━━━━━━━━\u001b[0m \u001b[32m927.3/927.3 kB\u001b[0m \u001b[31m21.9 MB/s\u001b[0m eta \u001b[36m0:00:00\u001b[0m\n",
            "\u001b[?25hDownloading lightning_utilities-0.11.9-py3-none-any.whl (28 kB)\n",
            "Installing collected packages: lightning-utilities, torchmetrics\n",
            "Successfully installed lightning-utilities-0.11.9 torchmetrics-1.6.1\n"
          ]
        }
      ]
    },
    {
      "cell_type": "code",
      "execution_count": 7,
      "id": "01198d15-c16c-4aa6-a8ed-65705ab743cf",
      "metadata": {
        "id": "01198d15-c16c-4aa6-a8ed-65705ab743cf",
        "outputId": "f4ca15d9-f907-48fc-b692-a3fef0693a01",
        "colab": {
          "base_uri": "https://localhost:8080/"
        }
      },
      "outputs": [
        {
          "output_type": "stream",
          "name": "stdout",
          "text": [
            "ROUGE-1 재현율: 0.67\n",
            "ROUGE-1 정밀도: 1.00\n",
            "ROUGE-1 F1: 0.80\n"
          ]
        }
      ],
      "source": [
        "from torchmetrics.text import ROUGEScore\n",
        "\n",
        "rouge = ROUGEScore(rouge_keys='rouge1')\n",
        "\n",
        "# ROUGE 점수를 계산합니다.\n",
        "rouge_score = rouge(target=[reference], preds=[candidate])\n",
        "\n",
        "print(f\"ROUGE-1 재현율: {rouge_score['rouge1_recall']:.2f}\")\n",
        "print(f\"ROUGE-1 정밀도: {rouge_score['rouge1_precision']:.2f}\")\n",
        "print(f\"ROUGE-1 F1: {rouge_score['rouge1_fmeasure']:.2f}\")"
      ]
    },
    {
      "cell_type": "markdown",
      "id": "2fe6a608-168a-4f7c-87a0-d82b9eac21ac",
      "metadata": {
        "id": "2fe6a608-168a-4f7c-87a0-d82b9eac21ac"
      },
      "source": [
        "### 직접 구현하기"
      ]
    },
    {
      "cell_type": "code",
      "execution_count": 8,
      "id": "66075150-bb85-465f-945e-3cc008de7efd",
      "metadata": {
        "id": "66075150-bb85-465f-945e-3cc008de7efd",
        "outputId": "43097a45-e774-4aa0-f182-3705e583310b",
        "colab": {
          "base_uri": "https://localhost:8080/"
        }
      },
      "outputs": [
        {
          "output_type": "stream",
          "name": "stdout",
          "text": [
            "ROUGE-1 재현율: 0.67\n",
            "ROUGE-1 정밀도: 1.00\n",
            "ROUGE-1 F1: 0.80\n"
          ]
        }
      ],
      "source": [
        "from collections import Counter\n",
        "\n",
        "def tokenize(sentence):\n",
        "    return sentence.lower().split()\n",
        "\n",
        "def ngrams(tokens, n):\n",
        "    return [tuple(tokens[i:i+n]) for i in range(len(tokens)-n+1)]\n",
        "\n",
        "def rouge_1(candidate, reference):\n",
        "    candidate_tokens = tokenize(candidate)\n",
        "    reference_tokens = tokenize(reference)\n",
        "\n",
        "    candidate_1grams = Counter(ngrams(candidate_tokens, 1))\n",
        "    reference_1grams = Counter(ngrams(reference_tokens, 1))\n",
        "\n",
        "    overlapping_1grams = candidate_1grams & reference_1grams\n",
        "    overlap_count = sum(overlapping_1grams.values())\n",
        "\n",
        "    candidate_count = sum(candidate_1grams.values())\n",
        "    reference_count = sum(reference_1grams.values())\n",
        "\n",
        "    if candidate_count == 0 or reference_count == 0:\n",
        "        return 0\n",
        "\n",
        "    precision = overlap_count / candidate_count\n",
        "    recall = overlap_count / reference_count\n",
        "    f1_score = 2 * precision * recall / (precision + recall) if precision + recall > 0 else 0\n",
        "\n",
        "    return precision, recall, f1_score\n",
        "\n",
        "\n",
        "precision, recall, f1_score = rouge_1(candidate, reference)\n",
        "\n",
        "print(f\"ROUGE-1 재현율: {recall:.2f}\")\n",
        "print(f\"ROUGE-1 정밀도: {precision:.2f}\")\n",
        "print(f\"ROUGE-1 F1: {f1_score:.2f}\")"
      ]
    }
  ],
  "metadata": {
    "kernelspec": {
      "display_name": "Python 3 (ipykernel)",
      "language": "python",
      "name": "python3"
    },
    "language_info": {
      "codemirror_mode": {
        "name": "ipython",
        "version": 3
      },
      "file_extension": ".py",
      "mimetype": "text/x-python",
      "name": "python",
      "nbconvert_exporter": "python",
      "pygments_lexer": "ipython3",
      "version": "3.10.6"
    },
    "colab": {
      "provenance": [],
      "include_colab_link": true
    }
  },
  "nbformat": 4,
  "nbformat_minor": 5
}