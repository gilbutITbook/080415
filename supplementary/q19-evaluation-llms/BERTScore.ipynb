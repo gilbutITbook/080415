{
  "cells": [
    {
      "cell_type": "markdown",
      "metadata": {
        "id": "view-in-github",
        "colab_type": "text"
      },
      "source": [
        "<a href=\"https://colab.research.google.com/github/rickiepark/MLQandAI/blob/main/supplementary/q19-evaluation-llms/BERTScore.ipynb\" target=\"_parent\"><img src=\"https://colab.research.google.com/assets/colab-badge.svg\" alt=\"Open In Colab\"/></a>"
      ]
    },
    {
      "cell_type": "markdown",
      "id": "ec420a7d-9ff0-4e83-8b25-5e6ec1422900",
      "metadata": {
        "id": "ec420a7d-9ff0-4e83-8b25-5e6ec1422900"
      },
      "source": [
        "# BERTScore"
      ]
    },
    {
      "cell_type": "code",
      "execution_count": 1,
      "id": "f962b7b7-a42b-4422-a7d3-27b70bf02d1f",
      "metadata": {
        "id": "f962b7b7-a42b-4422-a7d3-27b70bf02d1f"
      },
      "outputs": [],
      "source": [
        "import torch\n",
        "import numpy as np\n",
        "from transformers import BertTokenizer, BertModel\n",
        "\n",
        "def cosine_similarity(a, b):\n",
        "    return np.dot(a, b) / (np.linalg.norm(a) * np.linalg.norm(b))\n",
        "\n",
        "def bert_score(reference, candidate, return_similarity_matrix=False):\n",
        "\n",
        "    # BERT 토크나이저와 모델을 로드합니다.\n",
        "    tokenizer = BertTokenizer.from_pretrained(\"bert-base-uncased\")\n",
        "    model = BertModel.from_pretrained(\"bert-base-uncased\")\n",
        "\n",
        "    # 입력 텍스트를 토큰화합니다.\n",
        "    ref_tokens = tokenizer(reference, return_tensors=\"pt\", add_special_tokens=False)\n",
        "    can_tokens = tokenizer(candidate, return_tensors=\"pt\", add_special_tokens=False)\n",
        "\n",
        "    # BERT 임베딩을 추출합니다.\n",
        "    model.eval()\n",
        "    with torch.no_grad():\n",
        "        ref_outputs = model(**ref_tokens)\n",
        "        ref_embeddings = ref_outputs.last_hidden_state[0]\n",
        "\n",
        "        can_outputs = model(**can_tokens)\n",
        "        can_embeddings = can_outputs.last_hidden_state[0]\n",
        "\n",
        "    # 코사인 유사도를 계산합니다.\n",
        "    cosine_similarities = np.zeros((can_embeddings.shape[0], ref_embeddings.shape[0]))\n",
        "    for i, c in enumerate(can_embeddings):\n",
        "        for j, r in enumerate(ref_embeddings):\n",
        "            cosine_similarities[i, j] = cosine_similarity(c, r)\n",
        "\n",
        "\n",
        "    # 코사인 유사도를 정렬합니다.\n",
        "    max_similarities = cosine_similarities.max(axis=1)\n",
        "\n",
        "    # 유사도 점수를 평균합니다.\n",
        "    bertscore = max_similarities.mean()\n",
        "\n",
        "    if return_similarity_matrix:\n",
        "        return bertscore, cosine_similarities\n",
        "    else:\n",
        "        return bertscore"
      ]
    },
    {
      "cell_type": "code",
      "execution_count": 2,
      "id": "46883444-11af-46a3-bb2a-22329c3558ae",
      "metadata": {
        "id": "46883444-11af-46a3-bb2a-22329c3558ae",
        "outputId": "ba5107c7-0d9e-4067-ad2a-a03aae868761",
        "colab": {
          "base_uri": "https://localhost:8080/"
        }
      },
      "outputs": [
        {
          "output_type": "execute_result",
          "data": {
            "text/plain": [
              "0.8767203622394137"
            ]
          },
          "metadata": {},
          "execution_count": 2
        }
      ],
      "source": [
        "# 입력 텍스트를 정의합니다.\n",
        "reference = \"The quick brown fox jumps over the lazy dog.\"\n",
        "candidate = \"A quick brown fox leaps over a dog.\"\n",
        "\n",
        "bert_score(reference, candidate)"
      ]
    },
    {
      "cell_type": "code",
      "execution_count": 3,
      "id": "e3494bb3-9742-4cf9-b339-80436b4e4e3b",
      "metadata": {
        "id": "e3494bb3-9742-4cf9-b339-80436b4e4e3b",
        "outputId": "f56eabde-88de-4d2a-d381-ee1da3bc3784",
        "colab": {
          "base_uri": "https://localhost:8080/"
        }
      },
      "outputs": [
        {
          "output_type": "execute_result",
          "data": {
            "text/plain": [
              "0.6320915818214417"
            ]
          },
          "metadata": {},
          "execution_count": 3
        }
      ],
      "source": [
        "bert_score(\"fast\", \"quick\")"
      ]
    },
    {
      "cell_type": "code",
      "execution_count": 4,
      "id": "f4ac45db-1227-46b2-bb02-9d4eebcba5d2",
      "metadata": {
        "id": "f4ac45db-1227-46b2-bb02-9d4eebcba5d2",
        "outputId": "fd04c732-210e-4fc2-cb2e-f130fe64f550",
        "colab": {
          "base_uri": "https://localhost:8080/"
        }
      },
      "outputs": [
        {
          "output_type": "execute_result",
          "data": {
            "text/plain": [
              "1.0000001192092896"
            ]
          },
          "metadata": {},
          "execution_count": 4
        }
      ],
      "source": [
        "bert_score(\"fast\", \"fast\")"
      ]
    },
    {
      "cell_type": "code",
      "execution_count": 5,
      "id": "ec6c369c-0350-4a7d-8442-051d2a7be83c",
      "metadata": {
        "id": "ec6c369c-0350-4a7d-8442-051d2a7be83c",
        "outputId": "d8cd12f0-34c8-465d-a3d0-ca08cd6e4ca3",
        "colab": {
          "base_uri": "https://localhost:8080/"
        }
      },
      "outputs": [
        {
          "output_type": "stream",
          "name": "stdout",
          "text": [
            "0.6859036386013031\n",
            "[[0.63398367 0.52621484 0.51968843]\n",
            " [0.59454829 0.71506655 0.6889143 ]\n",
            " [0.55240417 0.68978482 0.69811267]\n",
            " [0.55321139 0.69165015 0.69645166]]\n"
          ]
        }
      ],
      "source": [
        "reference = \"The cat jumped\"\n",
        "candidate = \"A cat leaped high\"\n",
        "\n",
        "# BERTScore를 계산합니다.\n",
        "bertscore, sim_matrix = bert_score(\n",
        "    reference, candidate, return_similarity_matrix=True)\n",
        "\n",
        "print(bertscore)\n",
        "print(sim_matrix)"
      ]
    },
    {
      "cell_type": "code",
      "execution_count": 6,
      "id": "cf7f4778-9aa2-4ef5-83de-cbeb31e5b15a",
      "metadata": {
        "id": "cf7f4778-9aa2-4ef5-83de-cbeb31e5b15a"
      },
      "outputs": [],
      "source": [
        "import matplotlib.pyplot as plt\n",
        "import numpy as np\n",
        "\n",
        "\n",
        "def heatmap(\n",
        "    matrix,\n",
        "    hide_spines=False,\n",
        "    hide_ticks=False,\n",
        "    figsize=None,\n",
        "    cmap=None,\n",
        "    colorbar=True,\n",
        "    row_names=None,\n",
        "    column_names=None,\n",
        "    column_name_rotation=45,\n",
        "    cell_values=True,\n",
        "    cell_fmt=\".2f\",\n",
        "    cell_font_size=None,\n",
        "):\n",
        "\n",
        "    if row_names is not None and len(row_names) != matrix.shape[0]:\n",
        "        raise AssertionError(\n",
        "            f\"len(row_names) (got {len(row_names)})\"\n",
        "            \" should be equal to number of\"\n",
        "            \" rows in the input \"\n",
        "            f\" array (expect {matrix.shape[0]}).\"\n",
        "        )\n",
        "\n",
        "    if column_names is not None and len(column_names) != matrix.shape[1]:\n",
        "        raise AssertionError(\n",
        "            f\"len(column_names)\"\n",
        "            \" (got {len(column_names)})\"\n",
        "            \" should be equal to number of\"\n",
        "            \" columns in the\"\n",
        "            f\" input array (expect {matrix.shape[1]}).\"\n",
        "        )\n",
        "\n",
        "    fig, ax = plt.subplots(figsize=figsize)\n",
        "    ax.grid(False)\n",
        "\n",
        "    if cmap is None:\n",
        "        cmap = plt.cm.viridis\n",
        "\n",
        "    if figsize is None:\n",
        "        figsize = (len(matrix) * 1.5, len(matrix) * 1.5)\n",
        "\n",
        "    matshow = ax.matshow(matrix, cmap=cmap)\n",
        "\n",
        "    if colorbar:\n",
        "        fig.colorbar(matshow)\n",
        "\n",
        "    normed_matrix = matrix.astype(\"float\") / matrix.max()\n",
        "\n",
        "    if cell_values:\n",
        "        for i in range(matrix.shape[0]):\n",
        "            for j in range(matrix.shape[1]):\n",
        "                cell_text = format(matrix[i, j], cell_fmt)\n",
        "\n",
        "                ax.text(\n",
        "                    x=j,\n",
        "                    y=i,\n",
        "                    size=cell_font_size,\n",
        "                    s=cell_text,\n",
        "                    va=\"center\",\n",
        "                    ha=\"center\",\n",
        "                    color=\"black\"\n",
        "                    if normed_matrix[i, j] > np.max(normed_matrix) / 2\n",
        "                    else \"black\",\n",
        "                )\n",
        "\n",
        "    if row_names is not None:\n",
        "        tick_marks = np.arange(len(row_names))\n",
        "        plt.yticks(tick_marks, row_names)\n",
        "\n",
        "    if column_names is not None:\n",
        "        tick_marks = np.arange(len(column_names))\n",
        "\n",
        "        if column_name_rotation:\n",
        "            plt.xticks(\n",
        "                tick_marks,\n",
        "                column_names,\n",
        "                rotation=column_name_rotation,\n",
        "                ha=\"right\",\n",
        "                rotation_mode=\"anchor\",\n",
        "            )\n",
        "        else:\n",
        "            plt.xticks(tick_marks, column_names)\n",
        "\n",
        "    if hide_spines:\n",
        "        ax.spines[\"right\"].set_visible(False)\n",
        "        ax.spines[\"top\"].set_visible(False)\n",
        "        ax.spines[\"left\"].set_visible(False)\n",
        "        ax.spines[\"bottom\"].set_visible(False)\n",
        "    ax.yaxis.set_ticks_position(\"left\")\n",
        "    ax.xaxis.set_ticks_position(\"bottom\")\n",
        "    if hide_ticks:\n",
        "        ax.axes.get_yaxis().set_ticks([])\n",
        "        ax.axes.get_xaxis().set_ticks([])\n",
        "\n",
        "    return fig, ax"
      ]
    },
    {
      "cell_type": "code",
      "execution_count": 7,
      "id": "bf64bd2a-77eb-49ed-be75-6cb4e5e32dd7",
      "metadata": {
        "id": "bf64bd2a-77eb-49ed-be75-6cb4e5e32dd7",
        "outputId": "cd7ddf3c-8bb8-4211-920d-8da27511078b",
        "colab": {
          "base_uri": "https://localhost:8080/",
          "height": 407
        }
      },
      "outputs": [
        {
          "output_type": "display_data",
          "data": {
            "text/plain": [
              "<Figure size 400x400 with 2 Axes>"
            ],
            "image/png": "[encoded data removed]"
          },
          "metadata": {}
        }
      ],
      "source": [
        "from matplotlib import colormaps\n",
        "from matplotlib.colors import ListedColormap\n",
        "\n",
        "viridisBig = colormaps['Blues']\n",
        "newcmp = ListedColormap(viridisBig(np.linspace(0.0, 0.5, 256)))\n",
        "\n",
        "fig, ax = heatmap(sim_matrix, column_names=reference.split(),\n",
        "                  row_names=candidate.split(), cmap=newcmp, figsize=(4, 4))\n",
        "\n",
        "plt.tight_layout()\n",
        "\n",
        "#plt.savefig('matrix.pdf')\n",
        "plt.show()"
      ]
    },
    {
      "cell_type": "markdown",
      "id": "1f78877c-aa5f-450b-a683-925a2346a1d3",
      "metadata": {
        "id": "1f78877c-aa5f-450b-a683-925a2346a1d3"
      },
      "source": [
        "# 공식 BERTScore 패키지 사용하기"
      ]
    },
    {
      "cell_type": "markdown",
      "id": "bb0a0a7b-3c61-4caf-af5d-e9c78dd1e1b2",
      "metadata": {
        "id": "bb0a0a7b-3c61-4caf-af5d-e9c78dd1e1b2"
      },
      "source": [
        "참고: https://github.com/Tiiiger/bert_score"
      ]
    },
    {
      "cell_type": "code",
      "execution_count": 8,
      "id": "73533cb5-2c93-4be9-b4b5-266932fbc3fc",
      "metadata": {
        "id": "73533cb5-2c93-4be9-b4b5-266932fbc3fc",
        "outputId": "b6247547-b3b7-4690-dd8d-0d34828f49e7",
        "colab": {
          "base_uri": "https://localhost:8080/"
        }
      },
      "outputs": [
        {
          "output_type": "stream",
          "name": "stdout",
          "text": [
            "Requirement already satisfied: bert-score in /usr/local/lib/python3.11/dist-packages (0.3.13)\n",
            "Requirement already satisfied: torch>=1.0.0 in /usr/local/lib/python3.11/dist-packages (from bert-score) (2.5.1+cu121)\n",
            "Requirement already satisfied: pandas>=1.0.1 in /usr/local/lib/python3.11/dist-packages (from bert-score) (2.2.2)\n",
            "Requirement already satisfied: transformers>=3.0.0 in /usr/local/lib/python3.11/dist-packages (from bert-score) (4.47.1)\n",
            "Requirement already satisfied: numpy in /usr/local/lib/python3.11/dist-packages (from bert-score) (1.26.4)\n",
            "Requirement already satisfied: requests in /usr/local/lib/python3.11/dist-packages (from bert-score) (2.32.3)\n",
            "Requirement already satisfied: tqdm>=4.31.1 in /usr/local/lib/python3.11/dist-packages (from bert-score) (4.67.1)\n",
            "Requirement already satisfied: matplotlib in /usr/local/lib/python3.11/dist-packages (from bert-score) (3.10.0)\n",
            "Requirement already satisfied: packaging>=20.9 in /usr/local/lib/python3.11/dist-packages (from bert-score) (24.2)\n",
            "Requirement already satisfied: python-dateutil>=2.8.2 in /usr/local/lib/python3.11/dist-packages (from pandas>=1.0.1->bert-score) (2.8.2)\n",
            "Requirement already satisfied: pytz>=2020.1 in /usr/local/lib/python3.11/dist-packages (from pandas>=1.0.1->bert-score) (2024.2)\n",
            "Requirement already satisfied: tzdata>=2022.7 in /usr/local/lib/python3.11/dist-packages (from pandas>=1.0.1->bert-score) (2024.2)\n",
            "Requirement already satisfied: filelock in /usr/local/lib/python3.11/dist-packages (from torch>=1.0.0->bert-score) (3.16.1)\n",
            "Requirement already satisfied: typing-extensions>=4.8.0 in /usr/local/lib/python3.11/dist-packages (from torch>=1.0.0->bert-score) (4.12.2)\n",
            "Requirement already satisfied: networkx in /usr/local/lib/python3.11/dist-packages (from torch>=1.0.0->bert-score) (3.4.2)\n",
            "Requirement already satisfied: jinja2 in /usr/local/lib/python3.11/dist-packages (from torch>=1.0.0->bert-score) (3.1.5)\n",
            "Requirement already satisfied: fsspec in /usr/local/lib/python3.11/dist-packages (from torch>=1.0.0->bert-score) (2024.10.0)\n",
            "Requirement already satisfied: nvidia-cuda-nvrtc-cu12==12.1.105 in /usr/local/lib/python3.11/dist-packages (from torch>=1.0.0->bert-score) (12.1.105)\n",
            "Requirement already satisfied: nvidia-cuda-runtime-cu12==12.1.105 in /usr/local/lib/python3.11/dist-packages (from torch>=1.0.0->bert-score) (12.1.105)\n",
            "Requirement already satisfied: nvidia-cuda-cupti-cu12==12.1.105 in /usr/local/lib/python3.11/dist-packages (from torch>=1.0.0->bert-score) (12.1.105)\n",
            "Requirement already satisfied: nvidia-cudnn-cu12==9.1.0.70 in /usr/local/lib/python3.11/dist-packages (from torch>=1.0.0->bert-score) (9.1.0.70)\n",
            "Requirement already satisfied: nvidia-cublas-cu12==12.1.3.1 in /usr/local/lib/python3.11/dist-packages (from torch>=1.0.0->bert-score) (12.1.3.1)\n",
            "Requirement already satisfied: nvidia-cufft-cu12==11.0.2.54 in /usr/local/lib/python3.11/dist-packages (from torch>=1.0.0->bert-score) (11.0.2.54)\n",
            "Requirement already satisfied: nvidia-curand-cu12==10.3.2.106 in /usr/local/lib/python3.11/dist-packages (from torch>=1.0.0->bert-score) (10.3.2.106)\n",
            "Requirement already satisfied: nvidia-cusolver-cu12==11.4.5.107 in /usr/local/lib/python3.11/dist-packages (from torch>=1.0.0->bert-score) (11.4.5.107)\n",
            "Requirement already satisfied: nvidia-cusparse-cu12==12.1.0.106 in /usr/local/lib/python3.11/dist-packages (from torch>=1.0.0->bert-score) (12.1.0.106)\n",
            "Requirement already satisfied: nvidia-nccl-cu12==2.21.5 in /usr/local/lib/python3.11/dist-packages (from torch>=1.0.0->bert-score) (2.21.5)\n",
            "Requirement already satisfied: nvidia-nvtx-cu12==12.1.105 in /usr/local/lib/python3.11/dist-packages (from torch>=1.0.0->bert-score) (12.1.105)\n",
            "Requirement already satisfied: triton==3.1.0 in /usr/local/lib/python3.11/dist-packages (from torch>=1.0.0->bert-score) (3.1.0)\n",
            "Requirement already satisfied: sympy==1.13.1 in /usr/local/lib/python3.11/dist-packages (from torch>=1.0.0->bert-score) (1.13.1)\n",
            "Requirement already satisfied: nvidia-nvjitlink-cu12 in /usr/local/lib/python3.11/dist-packages (from nvidia-cusolver-cu12==11.4.5.107->torch>=1.0.0->bert-score) (12.6.85)\n",
            "Requirement already satisfied: mpmath<1.4,>=1.1.0 in /usr/local/lib/python3.11/dist-packages (from sympy==1.13.1->torch>=1.0.0->bert-score) (1.3.0)\n",
            "Requirement already satisfied: huggingface-hub<1.0,>=0.24.0 in /usr/local/lib/python3.11/dist-packages (from transformers>=3.0.0->bert-score) (0.27.1)\n",
            "Requirement already satisfied: pyyaml>=5.1 in /usr/local/lib/python3.11/dist-packages (from transformers>=3.0.0->bert-score) (6.0.2)\n",
            "Requirement already satisfied: regex!=2019.12.17 in /usr/local/lib/python3.11/dist-packages (from transformers>=3.0.0->bert-score) (2024.11.6)\n",
            "Requirement already satisfied: tokenizers<0.22,>=0.21 in /usr/local/lib/python3.11/dist-packages (from transformers>=3.0.0->bert-score) (0.21.0)\n",
            "Requirement already satisfied: safetensors>=0.4.1 in /usr/local/lib/python3.11/dist-packages (from transformers>=3.0.0->bert-score) (0.5.2)\n",
            "Requirement already satisfied: contourpy>=1.0.1 in /usr/local/lib/python3.11/dist-packages (from matplotlib->bert-score) (1.3.1)\n",
            "Requirement already satisfied: cycler>=0.10 in /usr/local/lib/python3.11/dist-packages (from matplotlib->bert-score) (0.12.1)\n",
            "Requirement already satisfied: fonttools>=4.22.0 in /usr/local/lib/python3.11/dist-packages (from matplotlib->bert-score) (4.55.3)\n",
            "Requirement already satisfied: kiwisolver>=1.3.1 in /usr/local/lib/python3.11/dist-packages (from matplotlib->bert-score) (1.4.8)\n",
            "Requirement already satisfied: pillow>=8 in /usr/local/lib/python3.11/dist-packages (from matplotlib->bert-score) (11.1.0)\n",
            "Requirement already satisfied: pyparsing>=2.3.1 in /usr/local/lib/python3.11/dist-packages (from matplotlib->bert-score) (3.2.1)\n",
            "Requirement already satisfied: charset-normalizer<4,>=2 in /usr/local/lib/python3.11/dist-packages (from requests->bert-score) (3.4.1)\n",
            "Requirement already satisfied: idna<4,>=2.5 in /usr/local/lib/python3.11/dist-packages (from requests->bert-score) (3.10)\n",
            "Requirement already satisfied: urllib3<3,>=1.21.1 in /usr/local/lib/python3.11/dist-packages (from requests->bert-score) (2.3.0)\n",
            "Requirement already satisfied: certifi>=2017.4.17 in /usr/local/lib/python3.11/dist-packages (from requests->bert-score) (2024.12.14)\n",
            "Requirement already satisfied: six>=1.5 in /usr/local/lib/python3.11/dist-packages (from python-dateutil>=2.8.2->pandas>=1.0.1->bert-score) (1.17.0)\n",
            "Requirement already satisfied: MarkupSafe>=2.0 in /usr/local/lib/python3.11/dist-packages (from jinja2->torch>=1.0.0->bert-score) (3.0.2)\n"
          ]
        }
      ],
      "source": [
        "!pip install bert-score"
      ]
    },
    {
      "cell_type": "code",
      "execution_count": 9,
      "id": "ac66de0d-24dc-47ba-a388-b060b8f3d4ff",
      "metadata": {
        "id": "ac66de0d-24dc-47ba-a388-b060b8f3d4ff",
        "outputId": "7b8043da-8f58-4376-8789-736507afaebb",
        "colab": {
          "base_uri": "https://localhost:8080/"
        }
      },
      "outputs": [
        {
          "output_type": "stream",
          "name": "stdout",
          "text": [
            "정밀도: 0.9040\n",
            "재현율: 0.9040\n",
            "F1 점수: 0.9040\n"
          ]
        }
      ],
      "source": [
        "import torch\n",
        "from bert_score import score\n",
        "\n",
        "# 참조 텍스트와 후보 텍스를 정의합니다.\n",
        "reference = \"The quick brown fox jumps over the lazy dog.\"\n",
        "candidate = \"A quick brown fox leaps over a lazy dog.\"\n",
        "\n",
        "# BERTScore(P, R, F1)를 계산합니다.\n",
        "P, R, F1 = score([candidate], [reference], lang='en', model_type='bert-base-uncased',\n",
        "                 device=torch.device('cuda' if torch.cuda.is_available() else 'cpu'))\n",
        "\n",
        "# BERTScore 결과를 출력합니다.\n",
        "print(f\"정밀도: {P.item():.4f}\")\n",
        "print(f\"재현율: {R.item():.4f}\")\n",
        "print(f\"F1 점수: {F1.item():.4f}\")"
      ]
    }
  ],
  "metadata": {
    "kernelspec": {
      "display_name": "Python 3 (ipykernel)",
      "language": "python",
      "name": "python3"
    },
    "language_info": {
      "codemirror_mode": {
        "name": "ipython",
        "version": 3
      },
      "file_extension": ".py",
      "mimetype": "text/x-python",
      "name": "python",
      "nbconvert_exporter": "python",
      "pygments_lexer": "ipython3",
      "version": "3.10.6"
    },
    "colab": {
      "provenance": [],
      "include_colab_link": true
    }
  },
  "nbformat": 4,
  "nbformat_minor": 5
}