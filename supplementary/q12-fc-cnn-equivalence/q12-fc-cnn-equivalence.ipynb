{
  "cells": [
    {
      "cell_type": "markdown",
      "metadata": {
        "id": "view-in-github",
        "colab_type": "text"
      },
      "source": [
        "<a href=\"https://colab.research.google.com/github/rickiepark/MLQandAI/blob/main/supplementary/q12-fc-cnn-equivalence/q12-fc-cnn-equivalence.ipynb\" target=\"_parent\"><img src=\"https://colab.research.google.com/assets/colab-badge.svg\" alt=\"Open In Colab\"/></a>"
      ]
    },
    {
      "cell_type": "markdown",
      "id": "c2b92e14-aa49-4b4c-b0c3-af07314eb8a7",
      "metadata": {
        "id": "c2b92e14-aa49-4b4c-b0c3-af07314eb8a7"
      },
      "source": [
        "# 12장의 예제 코드"
      ]
    },
    {
      "cell_type": "markdown",
      "id": "b9622508-9b82-4d12-9918-aefc068af4a0",
      "metadata": {
        "id": "b9622508-9b82-4d12-9918-aefc068af4a0"
      },
      "source": [
        "완전 연결 층과 합성곱 층이 동등한 상황은?"
      ]
    },
    {
      "cell_type": "code",
      "execution_count": null,
      "id": "a99e7ac1-9681-45c1-a4ef-715491d22828",
      "metadata": {
        "id": "a99e7ac1-9681-45c1-a4ef-715491d22828",
        "outputId": "19d66f20-bcc5-49f7-ec1c-e27f1e0882f5",
        "colab": {
          "base_uri": "https://localhost:8080/"
        }
      },
      "outputs": [
        {
          "output_type": "stream",
          "name": "stdout",
          "text": [
            "파이토치 버전: 2.5.1+cu121\n"
          ]
        }
      ],
      "source": [
        "import torch\n",
        "print(f\"파이토치 버전: {torch.__version__}\")"
      ]
    },
    {
      "cell_type": "markdown",
      "id": "846a864a-76d8-4d64-a429-960bd0feb29a",
      "metadata": {
        "id": "846a864a-76d8-4d64-a429-960bd0feb29a"
      },
      "source": [
        "## 1) 완전 연결 층"
      ]
    },
    {
      "cell_type": "markdown",
      "id": "f3eb52f1-0e48-4423-a8dc-a0b9c380cb6d",
      "metadata": {
        "id": "f3eb52f1-0e48-4423-a8dc-a0b9c380cb6d"
      },
      "source": [
        "<img src=\"https://github.com/rickiepark/MLQandAI/blob/main/supplementary/q12-fc-cnn-equivalence/img/fc-cnn-equivalent-1.png?raw=1\" width=\"400px\">"
      ]
    },
    {
      "cell_type": "code",
      "execution_count": null,
      "id": "036c0cdd-dfa4-49cf-9572-a6a727e4170f",
      "metadata": {
        "id": "036c0cdd-dfa4-49cf-9572-a6a727e4170f",
        "outputId": "3e18b72a-f492-4f1a-f0f0-06cd86bda9a8",
        "colab": {
          "base_uri": "https://localhost:8080/"
        }
      },
      "outputs": [
        {
          "output_type": "stream",
          "name": "stdout",
          "text": [
            "tensor([[-0.4775, -2.1469]])\n"
          ]
        }
      ],
      "source": [
        "torch.manual_seed(123)\n",
        "\n",
        "fc = torch.nn.Linear(4, 2)\n",
        "\n",
        "inputs = torch.tensor([[1., 2., 3., 4.]])\n",
        "\n",
        "with torch.no_grad():\n",
        "    out1 = fc(inputs)\n",
        "\n",
        "print(out1)"
      ]
    },
    {
      "cell_type": "code",
      "execution_count": null,
      "id": "59e6fb1a-86cc-467c-a401-52ac19ae5744",
      "metadata": {
        "id": "59e6fb1a-86cc-467c-a401-52ac19ae5744",
        "outputId": "b6ef2d4c-8f24-4b37-833f-edc6ca5f7946",
        "colab": {
          "base_uri": "https://localhost:8080/"
        }
      },
      "outputs": [
        {
          "output_type": "execute_result",
          "data": {
            "text/plain": [
              "Parameter containing:\n",
              "tensor([[-0.2039,  0.0166, -0.2483,  0.1886],\n",
              "        [-0.4260,  0.3665, -0.3634, -0.3975]], requires_grad=True)"
            ]
          },
          "metadata": {},
          "execution_count": 3
        }
      ],
      "source": [
        "fc.weight"
      ]
    },
    {
      "cell_type": "markdown",
      "id": "db888c2a-3f28-4e22-91ed-1f92d25a26d3",
      "metadata": {
        "id": "db888c2a-3f28-4e22-91ed-1f92d25a26d3"
      },
      "source": [
        "## 2) 시나리오 1: 커널 크기가 입력 크기와 같을 때"
      ]
    },
    {
      "cell_type": "markdown",
      "id": "342b9ac2-56b2-4b8b-b7be-d6272b9abd52",
      "metadata": {
        "id": "342b9ac2-56b2-4b8b-b7be-d6272b9abd52"
      },
      "source": [
        "<img src=\"https://github.com/rickiepark/MLQandAI/blob/main/supplementary/q12-fc-cnn-equivalence/img/fc-cnn-equivalent-2.png?raw=1\" width=\"500px\">"
      ]
    },
    {
      "cell_type": "markdown",
      "id": "0f9bf351-c5d1-4b99-98ad-9d427e8205c0",
      "metadata": {
        "id": "0f9bf351-c5d1-4b99-98ad-9d427e8205c0"
      },
      "source": [
        "파이토치 합성곱 층은 기본적으로 NCHW 포맷을 기대합니다.\n",
        "\n",
        "- N = 배치 크기\n",
        "- C = 채널\n",
        "- H = 높이\n",
        "- W = 너비"
      ]
    },
    {
      "cell_type": "code",
      "execution_count": null,
      "id": "ba3dbf8d-76dc-4a1a-8f5e-f3e09db14e62",
      "metadata": {
        "id": "ba3dbf8d-76dc-4a1a-8f5e-f3e09db14e62",
        "outputId": "cdb49149-ab1c-442e-d60b-a9f18591334a",
        "colab": {
          "base_uri": "https://localhost:8080/"
        }
      },
      "outputs": [
        {
          "output_type": "execute_result",
          "data": {
            "text/plain": [
              "tensor([[[[1., 2.],\n",
              "          [3., 4.]]]])"
            ]
          },
          "metadata": {},
          "execution_count": 4
        }
      ],
      "source": [
        "reshaped = inputs.reshape(-1, 1, 2, 2)\n",
        "reshaped"
      ]
    },
    {
      "cell_type": "code",
      "execution_count": null,
      "id": "12fa563f-c33e-4463-8bc3-012a0178dcaa",
      "metadata": {
        "id": "12fa563f-c33e-4463-8bc3-012a0178dcaa",
        "outputId": "2b176f0f-b62f-4ef8-d06f-2b0e0683bd11",
        "colab": {
          "base_uri": "https://localhost:8080/"
        }
      },
      "outputs": [
        {
          "output_type": "execute_result",
          "data": {
            "text/plain": [
              "torch.Size([2, 1, 2, 2])"
            ]
          },
          "metadata": {},
          "execution_count": 5
        }
      ],
      "source": [
        "conv = torch.nn.Conv2d(\n",
        "    in_channels=1,\n",
        "    out_channels=2,\n",
        "    kernel_size=2\n",
        ")\n",
        "\n",
        "conv.weight.shape"
      ]
    },
    {
      "cell_type": "markdown",
      "id": "1da7fe7e-3fb3-4211-9c50-3197901cb559",
      "metadata": {
        "id": "1da7fe7e-3fb3-4211-9c50-3197901cb559"
      },
      "source": [
        "Conv2d의 가중치가 랜덤하게 초기화되기 때문에 정확히 동일한 결과를 얻으려면 완전 연결 층의 가중치로 합성곱 층의 랜덤한 가중치를 덮어 써야 합니다."
      ]
    },
    {
      "cell_type": "code",
      "execution_count": null,
      "id": "fd107812-7a0f-49af-84c3-2703af1d9dd5",
      "metadata": {
        "id": "fd107812-7a0f-49af-84c3-2703af1d9dd5",
        "outputId": "8c6ab9a5-a512-46f3-b933-28787871f4d3",
        "colab": {
          "base_uri": "https://localhost:8080/"
        }
      },
      "outputs": [
        {
          "output_type": "stream",
          "name": "stdout",
          "text": [
            "tensor([[[[-0.4775]],\n",
            "\n",
            "         [[-2.1469]]]])\n"
          ]
        }
      ],
      "source": [
        "with torch.no_grad():\n",
        "    conv.weight[0][0] = fc.weight[0].reshape(1, 2, 2)\n",
        "    conv.weight[1][0] = fc.weight[1].reshape(1, 2, 2)\n",
        "    conv.bias[0] = fc.bias[0]\n",
        "    conv.bias[1] = fc.bias[1]\n",
        "\n",
        "    out2 = conv(reshaped)\n",
        "\n",
        "print(out2)"
      ]
    },
    {
      "cell_type": "code",
      "execution_count": null,
      "id": "2d55e289-a616-4128-9ec2-bd3b40616dd3",
      "metadata": {
        "id": "2d55e289-a616-4128-9ec2-bd3b40616dd3",
        "outputId": "6cdaf126-5961-4099-da58-4d83b3cb07fb",
        "colab": {
          "base_uri": "https://localhost:8080/"
        }
      },
      "outputs": [
        {
          "output_type": "execute_result",
          "data": {
            "text/plain": [
              "tensor([True, True])"
            ]
          },
          "metadata": {},
          "execution_count": 7
        }
      ],
      "source": [
        "out1.flatten() == out2.flatten()"
      ]
    },
    {
      "cell_type": "markdown",
      "id": "6c830a5a-197e-4940-8de9-a6b1dae98b17",
      "metadata": {
        "id": "6c830a5a-197e-4940-8de9-a6b1dae98b17"
      },
      "source": [
        "## 3) 시나리오 2: 커널 크기가 1일 때"
      ]
    },
    {
      "cell_type": "markdown",
      "id": "e8aaebca-4369-474c-9244-0d6a18b42f27",
      "metadata": {
        "id": "e8aaebca-4369-474c-9244-0d6a18b42f27"
      },
      "source": [
        "<img src=\"https://github.com/rickiepark/MLQandAI/blob/main/supplementary/q12-fc-cnn-equivalence/img/fc-cnn-equivalent-3.png?raw=1\" width=\"500px\">"
      ]
    },
    {
      "cell_type": "code",
      "execution_count": null,
      "id": "de63bca7-17a2-489f-958f-41e96cfa21ed",
      "metadata": {
        "id": "de63bca7-17a2-489f-958f-41e96cfa21ed",
        "outputId": "1b9705c2-5a05-4eef-8931-d47671ccce87",
        "colab": {
          "base_uri": "https://localhost:8080/"
        }
      },
      "outputs": [
        {
          "output_type": "execute_result",
          "data": {
            "text/plain": [
              "tensor([[[[1.]],\n",
              "\n",
              "         [[2.]],\n",
              "\n",
              "         [[3.]],\n",
              "\n",
              "         [[4.]]]])"
            ]
          },
          "metadata": {},
          "execution_count": 8
        }
      ],
      "source": [
        "reshaped2 = inputs.reshape(-1, 4, 1, 1)\n",
        "reshaped2"
      ]
    },
    {
      "cell_type": "code",
      "execution_count": null,
      "id": "50f69097-94c3-4d85-835d-1ae5e369c67a",
      "metadata": {
        "id": "50f69097-94c3-4d85-835d-1ae5e369c67a",
        "outputId": "e79a1e3d-2ae4-4992-d83e-bf42b85d9ba7",
        "colab": {
          "base_uri": "https://localhost:8080/"
        }
      },
      "outputs": [
        {
          "output_type": "execute_result",
          "data": {
            "text/plain": [
              "torch.Size([2, 4, 1, 1])"
            ]
          },
          "metadata": {},
          "execution_count": 9
        }
      ],
      "source": [
        "conv = torch.nn.Conv2d(\n",
        "    in_channels=4,\n",
        "    out_channels=2,\n",
        "    kernel_size=1\n",
        ")\n",
        "\n",
        "conv.weight.shape"
      ]
    },
    {
      "cell_type": "code",
      "execution_count": null,
      "id": "b7e805d1-73de-4ecf-97df-5e7c2ba410e5",
      "metadata": {
        "id": "b7e805d1-73de-4ecf-97df-5e7c2ba410e5",
        "outputId": "9b3c910c-e890-44aa-b0da-94e3afb9f49a",
        "colab": {
          "base_uri": "https://localhost:8080/"
        }
      },
      "outputs": [
        {
          "output_type": "stream",
          "name": "stdout",
          "text": [
            "tensor([[[[-0.4775]],\n",
            "\n",
            "         [[-2.1469]]]])\n"
          ]
        }
      ],
      "source": [
        "with torch.no_grad():\n",
        "    conv.weight[0] = fc.weight[0].reshape(4, 1, 1)\n",
        "    conv.weight[1] = fc.weight[1].reshape(4, 1, 1)\n",
        "    conv.bias[0] = fc.bias[0]\n",
        "    conv.bias[1] = fc.bias[1]\n",
        "\n",
        "    out3 = conv(reshaped2)\n",
        "\n",
        "print(out3)"
      ]
    },
    {
      "cell_type": "code",
      "execution_count": null,
      "id": "721f88fd-b174-4801-8ed3-be2b85a2c41f",
      "metadata": {
        "id": "721f88fd-b174-4801-8ed3-be2b85a2c41f",
        "outputId": "f127a012-abe7-493a-bbe2-52af9edbcdc7",
        "colab": {
          "base_uri": "https://localhost:8080/"
        }
      },
      "outputs": [
        {
          "output_type": "execute_result",
          "data": {
            "text/plain": [
              "tensor([True, True])"
            ]
          },
          "metadata": {},
          "execution_count": 11
        }
      ],
      "source": [
        "out1.flatten() == out3.flatten()"
      ]
    }
  ],
  "metadata": {
    "kernelspec": {
      "display_name": "Python 3 (ipykernel)",
      "language": "python",
      "name": "python3"
    },
    "language_info": {
      "codemirror_mode": {
        "name": "ipython",
        "version": 3
      },
      "file_extension": ".py",
      "mimetype": "text/x-python",
      "name": "python",
      "nbconvert_exporter": "python",
      "pygments_lexer": "ipython3",
      "version": "3.11.4"
    },
    "colab": {
      "provenance": [],
      "include_colab_link": true
    }
  },
  "nbformat": 4,
  "nbformat_minor": 5
}